{
 "cells": [
  {
   "cell_type": "markdown",
   "id": "8bb016a6-d175-4017-84f4-92290942069c",
   "metadata": {},
   "source": [
    "# Generate Training Points"
   ]
  },
  {
   "cell_type": "markdown",
   "id": "ece9bfe1-7aec-4eb2-b687-6b2a3e3e22a2",
   "metadata": {
    "tags": []
   },
   "source": [
    "## Background\n",
    "\n",
    "**Training data** is the most important part of any supervised machine learning workflow. The quality of the training data has a greater impact on the classification than the algorithm used. Large and accurate training data sets are preferable: increasing the training sample size results in increased classification accuracy ([Maxell et al 2018](https://www.tandfonline.com/doi/full/10.1080/01431161.2018.1433343)).  A review of training data methods in the context of Earth Observation is available [here](https://www.mdpi.com/2072-4292/12/6/1034).\n",
    "\n",
    "There are many platforms to use for gathering land cover training labels, the best one to use depends on your application. GIS platforms are great for collecting training data as they are highly flexible and mature platforms; [Geo-Wiki](https://www.geo-wiki.org/) and [Collect Earth Online](https://collect.earth/home) are two open-source websites that may also be useful depending on the reference data strategy employed. Alternatively, there are many pre-existing training datasets on the web that may be useful, e.g. [Radiant Earth](https://www.radiant.earth/) manages a growing number of reference datasets for use by anyone. With locations of land cover labels available, we can extract features at these locations from satellite imagery as input for machine learning.  "
   ]
  },
  {
   "cell_type": "markdown",
   "id": "ce7deb13-06df-4f10-b313-9812e2c765ea",
   "metadata": {},
   "source": [
    "## Description\n",
    "\n",
    "As timely training data is not always available, in this notebook we demonstrate how to generate a set of randomly distributed training points for a district (Kicukiro) in Rwanda from an existing classification map.\n",
    "\n",
    "The workflow includes the following steps:\n",
    "\n",
    "1. Preview the district boundaries of Rwanda on a basemap\n",
    "2. Select a district as area of analysis\n",
    "3. Merging classes on the classification map to keep only those you want\n",
    "4. Generate randomly distributed training points and export for future use\n",
    "\n",
    "***\n",
    "\n",
    "To run this analysis, run all the cells in the notebook, starting with the \"Load packages\" cell."
   ]
  },
  {
   "cell_type": "markdown",
   "id": "893a84f8-7d62-4dba-af3a-619f3fba0069",
   "metadata": {},
   "source": [
    "### Load packages\n"
   ]
  },
  {
   "cell_type": "code",
   "execution_count": null,
   "id": "7428a717-3694-4d1e-b615-c3f5b0ba7cf4",
   "metadata": {},
   "outputs": [],
   "source": [
    "%matplotlib inline\n",
    "import warnings\n",
    "import numpy as np\n",
    "import geopandas as gpd\n",
    "import pandas as pd\n",
    "import xarray as xr\n",
    "import rioxarray\n",
    "from matplotlib import pyplot as plt\n",
    "from matplotlib.colors import ListedColormap,BoundaryNorm\n",
    "from matplotlib.patches import Patch\n",
    "from random_sampling import random_sampling # adapted from function by Chad Burton: https://gist.github.com/cbur24/04760d645aa123a3b1817b07786e7d9f\n",
    "from datacube.utils.cog import write_cog"
   ]
  },
  {
   "cell_type": "markdown",
   "id": "f3f01ac7-47f3-4c1d-8344-650cd16d3cb1",
   "metadata": {},
   "source": [
    "## Analysis parameters\n",
    "\n",
    "* `input_polygons_path`: The path to the shapefile containing polygons of Rwanda administrative boundaries.\n",
    "* `input_map_path`: The classification map used to extract the training points. Here we use the [Rwanda Land Cover 2015 Scheme II map](http://geoportal.rcmrd.org/layers/servir%3Arwanda_landcover_2015_scheme_ii).\n",
    "* `district_name_attribute`: This is the name of column in your shapefile attribute table that identifies level 2 names, i.e. district names.\n",
    ">**Note**: If you change your file to a different shapefile, remember to update this variable to identify your area of interest.\n",
    "* `output_crs`: Output spatial reference system."
   ]
  },
  {
   "cell_type": "code",
   "execution_count": null,
   "id": "37c7a9a5-ce0f-4eac-bad6-0896c1aecb21",
   "metadata": {},
   "outputs": [],
   "source": [
    "input_polygons_path = 'Data/ADM2.shp'\n",
    "input_map_path='Data/rwanda_landcover_2015_scheme_ii.tif'\n",
    "district_name_attribute = 'ADM2_NAME'\n",
    "output_crs='epsg:32735' # WGS84/UTM Zone 35S"
   ]
  },
  {
   "cell_type": "markdown",
   "id": "267785f6-35fc-4737-a91b-404ea37937df",
   "metadata": {},
   "source": [
    "## Load and display input data\n",
    "Let's load the administration polygons and preview the data:"
   ]
  },
  {
   "cell_type": "code",
   "execution_count": null,
   "id": "f2e67a5c-65f7-42ee-9768-af3ae1ee6e85",
   "metadata": {},
   "outputs": [],
   "source": [
    "polygons=gpd.read_file(input_polygons_path)\n",
    "polygons.head()"
   ]
  },
  {
   "cell_type": "markdown",
   "id": "c90d08cb-b6fb-4fc1-97db-16a6acafb0b4",
   "metadata": {},
   "source": [
    "To display the polygons on an interactive basemap. When you hover on each polygon you would be able to its attributes:"
   ]
  },
  {
   "cell_type": "code",
   "execution_count": null,
   "id": "6c123a5f-e00f-422e-a05a-47bf6e8f2b4b",
   "metadata": {},
   "outputs": [],
   "source": [
    "polygons.explore(\n",
    "    tiles = \"https://mt1.google.com/vt/lyrs=y&x={x}&y={y}&z={z}\", \n",
    "    attr ='Imagery @2022 Landsat/Copernicus, Map data @2022 Google',\n",
    "    popup=True,\n",
    "    cmap='viridis',\n",
    "    style_kwds=dict(color= 'red', fillOpacity= 0, weight= 3),\n",
    "    )"
   ]
  },
  {
   "cell_type": "markdown",
   "id": "20a54c12-27ed-42c5-ae6f-bff509f1aab2",
   "metadata": {},
   "source": [
    "Let's load the classification map and display it:"
   ]
  },
  {
   "cell_type": "code",
   "execution_count": null,
   "id": "d6252bf0-6c41-481e-8d13-88151b02f871",
   "metadata": {},
   "outputs": [],
   "source": [
    "classification_map=xr.open_dataset(input_map_path,engine=\"rasterio\").astype(np.uint8)\n",
    "classification_map=classification_map.to_array().squeeze()"
   ]
  },
  {
   "cell_type": "markdown",
   "id": "4a43f75c-0a0d-462f-a0f3-c56cb8cfeee7",
   "metadata": {},
   "source": [
    "According to its metadata of the classification map, it conatains 15 classes including Nodata represented by its pixel values: Nodata (0), Dense Forest (1), Moderate Forest (2), Sparse Forest (3), Woodland (4), Closed Grassland (5), Open Grassland (6), Closed Shrubland (7), Open Shrubland (8), Perennial Cropland (9), Annual Cropland (10), Wetland (11), Water Body (12), Urban Settlement (13) and Other Land (14). Here we define a dictionary of class name corresponding to pixel values for dispaly:"
   ]
  },
  {
   "cell_type": "markdown",
   "id": "e5138a0b-90a3-4879-9ef8-2ac972a734c9",
   "metadata": {},
   "source": [
    ">**Note**: If you change the classification map, you will need to understand what class each pixel value represents."
   ]
  },
  {
   "cell_type": "code",
   "execution_count": null,
   "id": "d6b82305-cb3b-4f60-8b00-232be9f2bee6",
   "metadata": {},
   "outputs": [],
   "source": [
    "dict_map={'Nodata':0,'Dense Forest':1,'Moderate Forest':2,'Sparse Forest':3,'Woodland':4,\n",
    "          'Closed Grassland':5,'Open Grassland':6,'Closed Shrubland':7,'Open Shrubland':8,\n",
    "          'Perennial Cropland':9,'Annual Cropland':10,'Wetland':11,'Water Body':12,'Urban Settlement':13,'Other Land':14}\n",
    "# display colour for each class value\n",
    "colours = {0:'white',1:'darkgreen',2:'limegreen',3:'lime',4:'lightgreen',5:'olive',6:'yellow',7:'goldenrod',\n",
    "           8:'darkorange',9:'magenta',10:'pink',11:'cyan',12:'blue',13:'gray',14:'black'}\n",
    "\n",
    "fig, axes = plt.subplots(1,1)\n",
    "\n",
    "# Plot classification map\n",
    "unique_values=np.unique(classification_map)\n",
    "cmap=ListedColormap([colours[k] for k in unique_values])\n",
    "norm = BoundaryNorm(list(unique_values)+[np.max(unique_values)+1], cmap.N)\n",
    "classification_map.plot.imshow(ax=axes, \n",
    "                   cmap=cmap,\n",
    "                   norm=norm,\n",
    "                   add_labels=True, \n",
    "                   add_colorbar=False,\n",
    "                   interpolation='none')\n",
    "# add colour legend\n",
    "patches_list=[Patch(facecolor=colour) for colour in colours.values()]\n",
    "axes.legend(patches_list, list(dict_map.keys()),loc='upper center', ncol =4, bbox_to_anchor=(0.5, -0.1))"
   ]
  },
  {
   "cell_type": "markdown",
   "id": "f8006182-662b-4ac2-86dd-ec0d8520a4ba",
   "metadata": {},
   "source": [
    "## Select district for analysis\n",
    "Now we select a district of interest for analysis. Here we select the *Kicukiro* district and will use this district as demonstration for the rest of the workflow.  \n",
    ">**Note**: If you change your district of interest, depending on its area size you may expect more time and need more memory to process."
   ]
  },
  {
   "cell_type": "code",
   "execution_count": null,
   "id": "157017a8-5182-48e8-8f78-ab60dc5923b2",
   "metadata": {},
   "outputs": [],
   "source": [
    "district_name='Kicukiro'\n",
    "polygon=polygons.loc[polygons[district_name_attribute]==district_name]"
   ]
  },
  {
   "cell_type": "markdown",
   "id": "17066fb7-2826-43ef-87de-6e225a4a39be",
   "metadata": {},
   "source": [
    "With the district selected, we clip the classification map to the region for later analysis:"
   ]
  },
  {
   "cell_type": "code",
   "execution_count": null,
   "id": "0c766133-972f-4f75-a627-1679ea7e9794",
   "metadata": {},
   "outputs": [],
   "source": [
    "map_clipped=classification_map.rio.clip(geometries=polygon.geometry.values, crs=polygon.crs)"
   ]
  },
  {
   "cell_type": "markdown",
   "id": "a4482b30-82f6-4f78-b1b3-eb3dd3a5dc54",
   "metadata": {
    "tags": []
   },
   "source": [
    "## Class merging\n",
    "\n",
    "As we would like to use training samples for pure pixels as possible but the classification map contains more class than we want, we merge the classes legends that are likely mixture of pure classes, e.g. Sparse Forest. Here we merge:  \n",
    "* Dense Forest (1) and Moderate Forest (2) as Forest (1);  \n",
    "* Closed Grassland (5) and Open Grassland (6) as Grassland (5);  \n",
    "* Closed Shrubland (7) and Open Shrubland (8) as Shrubland (7).  \n",
    "\n",
    "Other Land class is treated as Bare Land based on our observations of the map. Here we abandon the classes Sparse Forest (3) and Woodland (4) from the map."
   ]
  },
  {
   "cell_type": "code",
   "execution_count": null,
   "id": "a280fb0d-5450-45f4-b48b-987370e65249",
   "metadata": {},
   "outputs": [],
   "source": [
    "map_clipped=map_clipped.where(map_clipped!=dict_map['Moderate Forest'],dict_map['Dense Forest']) # merge moderate forest (2) and dense forest (1)\n",
    "map_clipped=map_clipped.where(map_clipped!=dict_map['Open Grassland'],dict_map['Closed Grassland']) # merge open grassland (6) and closed grassland (5)\n",
    "map_clipped=map_clipped.where(map_clipped!=dict_map['Open Shrubland'],dict_map['Closed Shrubland']) # merge open shrubland (8) and closed shrubland (7)"
   ]
  },
  {
   "cell_type": "markdown",
   "id": "bcb28132-c609-4ed4-a29d-4b459dca93b5",
   "metadata": {},
   "source": [
    ">**Note**: If you change your class merging strategy, some of the variables related to class names and values used in the subsequent notebooks need to be updated as well."
   ]
  },
  {
   "cell_type": "markdown",
   "id": "49952952-0c9c-4108-b73e-c58e29918267",
   "metadata": {},
   "source": [
    "## Generate random training samples\n",
    "We generate some randomly distributed samples for each class from the clipped classification map using the `random_sampling` function. This function takes in a few parameters:  \n",
    "* `da`: a classified map in the format of 2-dimensional xarray.DataArray\n",
    "* `n`: total number of points to sample\n",
    "* `min_sample_n`: Minimum number of samples to generate per class if proportional number is smaller than this\n",
    "* `sampling`: the sampling strategy, e.g. 'stratified_random' where each class has a number of points proportional to its relative area, 'equal_stratified_random' where each class has the same number of points, or 'manual' which allows you to define number of samples for each class.\n",
    "* `out_fname`: a filepath name for the function to export a shapefile/geojson of the sampling points into a file. You can set this to `None` if you don't need to output the file.\n",
    "* `class_attr`: This is the column name of output dataframe that contains the integer class values on the classified map. \n",
    "* `drop_value`: pixel value on the classification map to be excluded from sampling.  \n",
    "\n",
    "The output of the function is a geopandas dataframe of randomly distributed points containing a column `class_attr` identifying class values. \n",
    "\n",
    "Here we extract around 500 training points in total and export the points in a geojson file for use in the rest of workflow. Here we use the stratified sampling method by setting 'equal_stratified_random', but also set the minimum number of samples as 20 to avoid no samples for some minor classes. \n",
    "\n",
    "As mentioned earlier we don't want the abandoned classes Sparse Forest (3) and Woodland (4) to be included in the samples we assign them as Nodata (0) and set drop_value as 0 before implementing the function:"
   ]
  },
  {
   "cell_type": "code",
   "execution_count": null,
   "id": "c6c20409-74e3-49c6-b08c-70bc366244dd",
   "metadata": {},
   "outputs": [],
   "source": [
    "map_clipped=map_clipped.where((map_clipped!=dict_map['Sparse Forest'])&(map_clipped!=dict_map['Woodland']),0)"
   ]
  },
  {
   "cell_type": "markdown",
   "id": "d0ba0cdb-61ee-401b-bfd0-0b2254a72db3",
   "metadata": {},
   "source": [
    "We now implement the function and set the output file name incorporating the district name:"
   ]
  },
  {
   "cell_type": "code",
   "execution_count": null,
   "id": "e5992659-25c7-484d-9861-432f433744e4",
   "metadata": {},
   "outputs": [],
   "source": [
    "class_attr='LC_Class_I'\n",
    "out_fname='Results/Training_samples_'+district_name+'.geojson'\n",
    "gpd_random_samples=random_sampling(da=map_clipped,n=500,sampling='stratified_random',\n",
    "                                   min_sample_n=20,out_fname=out_fname,class_attr=class_attr,drop_value=0)"
   ]
  },
  {
   "cell_type": "markdown",
   "id": "60749f18-6691-4cbd-9a63-55ab98eefcf0",
   "metadata": {},
   "source": [
    ">**Note**: The output training data file can also be in other formats (e.g. shapefile) that can be read by `geopandas`, but if you change it, remember to update wherever it was used in subsequent notebooks."
   ]
  },
  {
   "cell_type": "markdown",
   "id": "d424c6e9-3893-499d-8c5a-6c6f9865af0f",
   "metadata": {},
   "source": [
    "Finally, we also export the clipped and class-merged map to disk for future use:"
   ]
  },
  {
   "cell_type": "code",
   "execution_count": null,
   "id": "82e0cdbd-0bb9-44f7-8ca4-2430b00c3a63",
   "metadata": {},
   "outputs": [],
   "source": [
    "outname='Results/rwanda_landcover_2015_scheme_ii_clipped.tif'\n",
    "write_cog(map_clipped, outname, overwrite=True)"
   ]
  },
  {
   "cell_type": "code",
   "execution_count": null,
   "id": "163289b6-3065-433f-aa4e-cbd19fc7c444",
   "metadata": {},
   "outputs": [],
   "source": []
  }
 ],
 "metadata": {
  "kernelspec": {
   "display_name": "Python 3 (ipykernel)",
   "language": "python",
   "name": "python3"
  },
  "language_info": {
   "codemirror_mode": {
    "name": "ipython",
    "version": 3
   },
   "file_extension": ".py",
   "mimetype": "text/x-python",
   "name": "python",
   "nbconvert_exporter": "python",
   "pygments_lexer": "ipython3",
   "version": "3.8.10"
  }
 },
 "nbformat": 4,
 "nbformat_minor": 5
}
