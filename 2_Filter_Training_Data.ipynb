{
 "cells": [
  {
   "cell_type": "markdown",
   "id": "c4555d86-4eb4-4185-93d8-52f55da43df9",
   "metadata": {},
   "source": [
    "# Filter Training Data\n"
   ]
  },
  {
   "cell_type": "markdown",
   "id": "9f767b5b-dd6e-48f8-aba4-259d72d8804a",
   "metadata": {
    "tags": []
   },
   "source": [
    "## Background\n",
    "\n",
    "It is not uncommon for existing training data to be collected over a different time period than that of the study period. Meaning that a dataset may not reflect the real ground cover due to temporal changes. \n",
    "\n",
    "The Food and Agriculture Organization (FAO) adopted a training data filtering method for any given reference year that is within a time span (e.g. 5 years) from an existing baseline, and tested the method in the production of land cover mapping for Lesotho. It is assumed that the majority of reference labels will remain valid from one year to the previous/next. Based on this assumption, the reference labels which have changed are the minority, and should be detectable through the use of outlier detection methods like K-Means clustering. More details on the method and how it works for Lesotho can be found in the published paper ([De Simone et al 2022](https://www.mdpi.com/2072-4292/14/14/3294))."
   ]
  },
  {
   "cell_type": "markdown",
   "id": "b48ec80f-8f94-45f9-808c-712a572f8d89",
   "metadata": {},
   "source": [
    "## Description\n",
    "\n",
    "This notebook will implement FAO's automatic filtering of a training dataset for a target year using points from a geojson or shapefile and a reference classification map of a previous year. The steps include:\n",
    "1. Load extracted training features\n",
    "2. Generate stratified random samples for each class on the reference land cover map using `random_sampling` and extract their features using `collect_training_data`\n",
    "3. Train K-Means models using the extracted features of the random samples\n",
    "4. Apply clustering on training features and remove minor clusters\n",
    "5. Export the filtered training features to disk for use in subsequent scripts\n",
    "\n",
    "To run this analysis, run all the cells in the notebook, starting with the \"Load packages\" cell."
   ]
  },
  {
   "cell_type": "markdown",
   "id": "cdba3177-6db9-4440-9c8b-d5437f41e7f4",
   "metadata": {},
   "source": [
    "### Load packages\n"
   ]
  },
  {
   "cell_type": "code",
   "execution_count": 1,
   "id": "7fccc7e0-768c-4479-a777-6ce9efbf4d86",
   "metadata": {},
   "outputs": [
    {
     "name": "stderr",
     "output_type": "stream",
     "text": [
      "/usr/local/lib/python3.8/dist-packages/geopandas/_compat.py:112: UserWarning: The Shapely GEOS version (3.8.0-CAPI-1.13.1 ) is incompatible with the GEOS version PyGEOS was compiled with (3.10.3-CAPI-1.16.1). Conversions between both will be slow.\n",
      "  warnings.warn(\n"
     ]
    }
   ],
   "source": [
    "%matplotlib inline\n",
    "import warnings\n",
    "import numpy as np\n",
    "import geopandas as gpd\n",
    "import pandas as pd\n",
    "import xarray as xr\n",
    "from sklearn.cluster import KMeans\n",
    "from sklearn.preprocessing import StandardScaler\n",
    "from sklearn import metrics\n",
    "from random_sampling import random_sampling # adapted from function by Chad Burton: https://gist.github.com/cbur24/04760d645aa123a3b1817b07786e7d9f"
   ]
  },
  {
   "cell_type": "markdown",
   "id": "6efee6d6-c909-427c-bcb7-2943ae33b6bc",
   "metadata": {},
   "source": [
    "## Analysis parameters\n",
    "* `training_features_path`: The path to the file containing training features we extracted through the previous module `0_Extract_Training_Features.ipynb`.\n",
    "* `reference_map_path`: The path to the reference classification map, which will be used as a stratification layer to extract random samples for each class. In this example, we are using the existing map [Rwanda Land Cover 2015 Scheme II](http://geoportal.rcmrd.org/layers/servir%3Arwanda_landcover_2015_scheme_ii). **Note that the reference map pixel values should contain the class values existing in the training data.**\n",
    "* `class_attr`: This is the name of column in your shapefile/geojson file attribute table that contains the class labels. **The class labels must be integers**\n",
    "* `output_crs`: Output spatial reference system."
   ]
  },
  {
   "cell_type": "code",
   "execution_count": 2,
   "id": "62286a65-b4ae-4939-9c35-8b1675899e38",
   "metadata": {},
   "outputs": [],
   "source": [
    "training_features_path = 'Results/Rwanda_training_features_2021_from_2015_scheme_ii.geojson'\n",
    "reference_map_path='Data/rwanda_landcover_2015_scheme_ii.tif'\n",
    "class_attr = 'LC_Class_I' # class label in integer format\n",
    "output_crs='epsg:32735' # WGS84/UTM Zone 35S"
   ]
  },
  {
   "cell_type": "markdown",
   "id": "c277e7e2-e195-43b0-9266-77a62813db76",
   "metadata": {},
   "source": [
    "## Load input data\n",
    "\n",
    "We now load the training features .txt file using `geopandas`. The pandas dataframe should contain columns `class_attr` identifying class labels and the bi-monthly geomedians of the nine spectral bands and NDVI that we extracted through previous module. It also contains the coordinates and geometry columns."
   ]
  },
  {
   "cell_type": "code",
   "execution_count": 3,
   "id": "8ecf90a7-4fdf-40a9-90fc-edce613c6f2e",
   "metadata": {},
   "outputs": [
    {
     "data": {
      "text/html": [
       "<div>\n",
       "<style scoped>\n",
       "    .dataframe tbody tr th:only-of-type {\n",
       "        vertical-align: middle;\n",
       "    }\n",
       "\n",
       "    .dataframe tbody tr th {\n",
       "        vertical-align: top;\n",
       "    }\n",
       "\n",
       "    .dataframe thead th {\n",
       "        text-align: right;\n",
       "    }\n",
       "</style>\n",
       "<table border=\"1\" class=\"dataframe\">\n",
       "  <thead>\n",
       "    <tr style=\"text-align: right;\">\n",
       "      <th></th>\n",
       "      <th>LC_Class_I</th>\n",
       "      <th>blue_0</th>\n",
       "      <th>blue_1</th>\n",
       "      <th>blue_2</th>\n",
       "      <th>blue_3</th>\n",
       "      <th>blue_4</th>\n",
       "      <th>blue_5</th>\n",
       "      <th>green_0</th>\n",
       "      <th>green_1</th>\n",
       "      <th>green_2</th>\n",
       "      <th>...</th>\n",
       "      <th>swir_2_5</th>\n",
       "      <th>NDVI_0</th>\n",
       "      <th>NDVI_1</th>\n",
       "      <th>NDVI_2</th>\n",
       "      <th>NDVI_3</th>\n",
       "      <th>NDVI_4</th>\n",
       "      <th>NDVI_5</th>\n",
       "      <th>x_coord</th>\n",
       "      <th>y_coord</th>\n",
       "      <th>geometry</th>\n",
       "    </tr>\n",
       "  </thead>\n",
       "  <tbody>\n",
       "    <tr>\n",
       "      <th>0</th>\n",
       "      <td>12.0</td>\n",
       "      <td>746.544312</td>\n",
       "      <td>604.500000</td>\n",
       "      <td>531.854614</td>\n",
       "      <td>579.425171</td>\n",
       "      <td>779.834961</td>\n",
       "      <td>735.999939</td>\n",
       "      <td>1008.881714</td>\n",
       "      <td>870.000000</td>\n",
       "      <td>825.942627</td>\n",
       "      <td>...</td>\n",
       "      <td>954.000122</td>\n",
       "      <td>0.470825</td>\n",
       "      <td>0.540201</td>\n",
       "      <td>0.455023</td>\n",
       "      <td>0.473951</td>\n",
       "      <td>0.516605</td>\n",
       "      <td>0.368369</td>\n",
       "      <td>842405.0</td>\n",
       "      <td>9771525.0</td>\n",
       "      <td>POINT (842405.000 9771525.000)</td>\n",
       "    </tr>\n",
       "    <tr>\n",
       "      <th>1</th>\n",
       "      <td>12.0</td>\n",
       "      <td>359.753418</td>\n",
       "      <td>609.440247</td>\n",
       "      <td>528.122253</td>\n",
       "      <td>427.805145</td>\n",
       "      <td>684.916138</td>\n",
       "      <td>511.000000</td>\n",
       "      <td>494.839539</td>\n",
       "      <td>726.885864</td>\n",
       "      <td>684.505676</td>\n",
       "      <td>...</td>\n",
       "      <td>732.000000</td>\n",
       "      <td>0.094400</td>\n",
       "      <td>0.297828</td>\n",
       "      <td>0.284677</td>\n",
       "      <td>0.209838</td>\n",
       "      <td>0.157299</td>\n",
       "      <td>0.229703</td>\n",
       "      <td>718565.0</td>\n",
       "      <td>9735295.0</td>\n",
       "      <td>POINT (718565.000 9735295.000)</td>\n",
       "    </tr>\n",
       "    <tr>\n",
       "      <th>2</th>\n",
       "      <td>12.0</td>\n",
       "      <td>842.906006</td>\n",
       "      <td>3859.500000</td>\n",
       "      <td>808.999939</td>\n",
       "      <td>1100.436279</td>\n",
       "      <td>921.108398</td>\n",
       "      <td>1047.573853</td>\n",
       "      <td>1650.388550</td>\n",
       "      <td>3733.000000</td>\n",
       "      <td>1483.999878</td>\n",
       "      <td>...</td>\n",
       "      <td>178.300995</td>\n",
       "      <td>-0.110824</td>\n",
       "      <td>-0.150946</td>\n",
       "      <td>-0.427848</td>\n",
       "      <td>-0.273258</td>\n",
       "      <td>-0.257770</td>\n",
       "      <td>-0.124184</td>\n",
       "      <td>793185.0</td>\n",
       "      <td>9779405.0</td>\n",
       "      <td>POINT (793185.000 9779405.000)</td>\n",
       "    </tr>\n",
       "    <tr>\n",
       "      <th>3</th>\n",
       "      <td>12.0</td>\n",
       "      <td>603.348511</td>\n",
       "      <td>2966.000000</td>\n",
       "      <td>693.000000</td>\n",
       "      <td>831.999695</td>\n",
       "      <td>661.981812</td>\n",
       "      <td>666.000000</td>\n",
       "      <td>927.474609</td>\n",
       "      <td>4120.000000</td>\n",
       "      <td>989.000000</td>\n",
       "      <td>...</td>\n",
       "      <td>932.999817</td>\n",
       "      <td>0.259770</td>\n",
       "      <td>0.001298</td>\n",
       "      <td>0.263473</td>\n",
       "      <td>0.162238</td>\n",
       "      <td>0.508861</td>\n",
       "      <td>0.347551</td>\n",
       "      <td>796505.0</td>\n",
       "      <td>9807125.0</td>\n",
       "      <td>POINT (796505.000 9807125.000)</td>\n",
       "    </tr>\n",
       "    <tr>\n",
       "      <th>4</th>\n",
       "      <td>12.0</td>\n",
       "      <td>1164.430542</td>\n",
       "      <td>752.180908</td>\n",
       "      <td>397.646027</td>\n",
       "      <td>455.440857</td>\n",
       "      <td>861.179382</td>\n",
       "      <td>606.500000</td>\n",
       "      <td>1218.076782</td>\n",
       "      <td>966.766418</td>\n",
       "      <td>613.811584</td>\n",
       "      <td>...</td>\n",
       "      <td>1118.000000</td>\n",
       "      <td>0.518148</td>\n",
       "      <td>0.542375</td>\n",
       "      <td>0.745179</td>\n",
       "      <td>0.720775</td>\n",
       "      <td>0.577472</td>\n",
       "      <td>0.580907</td>\n",
       "      <td>847425.0</td>\n",
       "      <td>9772665.0</td>\n",
       "      <td>POINT (847425.000 9772665.000)</td>\n",
       "    </tr>\n",
       "  </tbody>\n",
       "</table>\n",
       "<p>5 rows × 70 columns</p>\n",
       "</div>"
      ],
      "text/plain": [
       "   LC_Class_I       blue_0       blue_1      blue_2       blue_3      blue_4  \\\n",
       "0        12.0   746.544312   604.500000  531.854614   579.425171  779.834961   \n",
       "1        12.0   359.753418   609.440247  528.122253   427.805145  684.916138   \n",
       "2        12.0   842.906006  3859.500000  808.999939  1100.436279  921.108398   \n",
       "3        12.0   603.348511  2966.000000  693.000000   831.999695  661.981812   \n",
       "4        12.0  1164.430542   752.180908  397.646027   455.440857  861.179382   \n",
       "\n",
       "        blue_5      green_0      green_1      green_2  ...     swir_2_5  \\\n",
       "0   735.999939  1008.881714   870.000000   825.942627  ...   954.000122   \n",
       "1   511.000000   494.839539   726.885864   684.505676  ...   732.000000   \n",
       "2  1047.573853  1650.388550  3733.000000  1483.999878  ...   178.300995   \n",
       "3   666.000000   927.474609  4120.000000   989.000000  ...   932.999817   \n",
       "4   606.500000  1218.076782   966.766418   613.811584  ...  1118.000000   \n",
       "\n",
       "     NDVI_0    NDVI_1    NDVI_2    NDVI_3    NDVI_4    NDVI_5   x_coord  \\\n",
       "0  0.470825  0.540201  0.455023  0.473951  0.516605  0.368369  842405.0   \n",
       "1  0.094400  0.297828  0.284677  0.209838  0.157299  0.229703  718565.0   \n",
       "2 -0.110824 -0.150946 -0.427848 -0.273258 -0.257770 -0.124184  793185.0   \n",
       "3  0.259770  0.001298  0.263473  0.162238  0.508861  0.347551  796505.0   \n",
       "4  0.518148  0.542375  0.745179  0.720775  0.577472  0.580907  847425.0   \n",
       "\n",
       "     y_coord                        geometry  \n",
       "0  9771525.0  POINT (842405.000 9771525.000)  \n",
       "1  9735295.0  POINT (718565.000 9735295.000)  \n",
       "2  9779405.0  POINT (793185.000 9779405.000)  \n",
       "3  9807125.0  POINT (796505.000 9807125.000)  \n",
       "4  9772665.0  POINT (847425.000 9772665.000)  \n",
       "\n",
       "[5 rows x 70 columns]"
      ]
     },
     "execution_count": 3,
     "metadata": {},
     "output_type": "execute_result"
    }
   ],
   "source": [
    "training_features= gpd.read_file(training_features_path) # Load training features\n",
    "training_features.head() # Plot first five rows"
   ]
  },
  {
   "cell_type": "markdown",
   "id": "1983c2a7",
   "metadata": {},
   "source": [
    "Using the `class_attr` column we can get the class values, which we will use later to process by class. For this extracted training points, the class names corresponding to the class values are: 1: Forest, 5: Grassland, 7: Shrubland, 9: Perennial Cropland, 10: Annual Cropland, 11: Wetland, 12: Water Body, 13: Urban Settlement, 14: Bare Land."
   ]
  },
  {
   "cell_type": "code",
   "execution_count": 4,
   "id": "5266d539",
   "metadata": {},
   "outputs": [
    {
     "name": "stdout",
     "output_type": "stream",
     "text": [
      "land cover classes:\n",
      " [12.  1.  5.  7.  9. 10. 11. 13. 14.]\n"
     ]
    }
   ],
   "source": [
    "lc_classes=training_features[class_attr].unique() # get class labels\n",
    "print('land cover classes:\\n',lc_classes)"
   ]
  },
  {
   "cell_type": "markdown",
   "id": "3c42d4cf-ba19-45a8-b095-f42a070e4d92",
   "metadata": {},
   "source": [
    "The training data filtering method also requires a reference land cover map as a stratification layer to generate random training samples, which will be used to train the K-Means models, so we now load the reference map:"
   ]
  },
  {
   "cell_type": "code",
   "execution_count": 5,
   "id": "0486c4df-5048-49ba-a572-90bd8d69d8ea",
   "metadata": {},
   "outputs": [
    {
     "name": "stdout",
     "output_type": "stream",
     "text": [
      "Reference land cover classifcation raster:\n",
      " <xarray.DataArray (y: 6992, x: 7697)>\n",
      "array([[0, 0, 0, ..., 0, 0, 0],\n",
      "       [0, 0, 0, ..., 0, 0, 0],\n",
      "       [0, 0, 0, ..., 0, 0, 0],\n",
      "       ...,\n",
      "       [0, 0, 0, ..., 0, 0, 0],\n",
      "       [0, 0, 0, ..., 0, 0, 0],\n",
      "       [0, 0, 0, ..., 0, 0, 0]], dtype=uint8)\n",
      "Coordinates:\n",
      "    band         int64 1\n",
      "  * x            (x) float64 28.84 28.84 28.84 28.84 ... 30.92 30.92 30.92 30.92\n",
      "  * y            (y) float64 -1.018 -1.018 -1.018 -1.018 ... -2.91 -2.91 -2.91\n",
      "    spatial_ref  int64 ...\n",
      "    variable     <U9 'band_data'\n"
     ]
    }
   ],
   "source": [
    "# load reference classification map\n",
    "reference_map = xr.open_dataset(reference_map_path,engine=\"rasterio\").astype(np.uint8)\n",
    "reference_map=reference_map.to_array().squeeze()\n",
    "print('Reference land cover classifcation raster:\\n',reference_map)"
   ]
  },
  {
   "cell_type": "markdown",
   "id": "67922b67",
   "metadata": {},
   "source": [
    "## Generate random samples\n",
    "In many cases there may not be statistically enough samples for some classes in the training data to train the K-Means models. Therefore, we generate some randomly distributed samples for each class from the reference classification map using the `random_sampling` function. This function takes in a few parameters:  \n",
    "* `n`: total number of points to sample\n",
    "* `sampling`: the sampling strategy, e.g. 'stratified_random' where each class has a number of points proportional to its relative area, 'equal_stratified_random' where each class has the same number of points, or 'manual' which allows you to define number of samples for each class.\n",
    "* `out_fname`: a filepath name for the function to export a shapefile/geojson of the sampling points into a file. You can set this to `None` if you don't need to output the file.\n",
    "* `class_attr`: This is the column name of output dataframe that contains the integer class values on the classified map. \n",
    "\n",
    "The output of the function is a geopandas dataframe of randomly distributed points containing a column `class_attr` identifying class values. As the Rwanda Land Cover 2015 Scheme II map contains more classes than the training data, to make sure we only sample the classes we want, we manually define the numbers of samples for all classes. For a quick demonstration let's sample 100 pixels for a few classes present at a small sample area of the map. However in your project you need to sample all classes across your study area to make sure the samples are representative of the classes, which may take some and require large memory."
   ]
  },
  {
   "cell_type": "code",
   "execution_count": 6,
   "id": "ea1f64ab",
   "metadata": {},
   "outputs": [
    {
     "name": "stdout",
     "output_type": "stream",
     "text": [
      "Requested more sample points than population of pixels for class 5, skipping\n",
      "Class 7: sampled at 100 coordinates\n",
      "Class 9: sampled at 100 coordinates\n",
      "Class 10: sampled at 100 coordinates\n",
      "Class 11: sampled at 100 coordinates\n",
      "Class 12: sampled at 100 coordinates\n",
      "Class 13: sampled at 100 coordinates\n"
     ]
    }
   ],
   "source": [
    "# only sample a few of the classes over a small example area\n",
    "gpd_random_samples=random_sampling(reference_map[2500:3000,5500:6000],n=900,sampling='manual',\n",
    "                                   manual_class_ratios={'5':100,'7':100,'9':100,'10':100,'11':100,'12':100,'13':100},\n",
    "                                   out_fname=None,class_attr=class_attr,drop_value=0)"
   ]
  },
  {
   "cell_type": "markdown",
   "id": "a8347a6c-f41a-428c-8eb0-05bbcb9a0746",
   "metadata": {},
   "source": [
    "For this workshop we have generated for you ~1000 samples for each class across Rwanda, i.e. a total of 9000 random samples. The points are stored in the file 'Results/Rwanda_random_samples_all.geojson'."
   ]
  },
  {
   "cell_type": "markdown",
   "id": "0a07c8c5",
   "metadata": {},
   "source": [
    "## Extract features\n",
    "With the random sample points available, we now need to extract features to train the K-Means models. As we will apply clustering on all the training features that were extracted through the previous module `0_Extract_Training_Features.ipynb`, we can re-use the query and feature layer function in the previous notebook to extract the features, i.e. bi-monthly geomedian of the nine spectral bands and NDVI. As we have demonstrated how to extract training features in the previous module, in this example we skip it but use a prepared file of extracted features for the random samples:"
   ]
  },
  {
   "cell_type": "code",
   "execution_count": 7,
   "id": "bdfce2de",
   "metadata": {},
   "outputs": [
    {
     "data": {
      "text/html": [
       "<div>\n",
       "<style scoped>\n",
       "    .dataframe tbody tr th:only-of-type {\n",
       "        vertical-align: middle;\n",
       "    }\n",
       "\n",
       "    .dataframe tbody tr th {\n",
       "        vertical-align: top;\n",
       "    }\n",
       "\n",
       "    .dataframe thead th {\n",
       "        text-align: right;\n",
       "    }\n",
       "</style>\n",
       "<table border=\"1\" class=\"dataframe\">\n",
       "  <thead>\n",
       "    <tr style=\"text-align: right;\">\n",
       "      <th></th>\n",
       "      <th>LC_Class_I</th>\n",
       "      <th>blue_0</th>\n",
       "      <th>blue_1</th>\n",
       "      <th>blue_2</th>\n",
       "      <th>blue_3</th>\n",
       "      <th>blue_4</th>\n",
       "      <th>blue_5</th>\n",
       "      <th>green_0</th>\n",
       "      <th>green_1</th>\n",
       "      <th>green_2</th>\n",
       "      <th>...</th>\n",
       "      <th>swir_2_5</th>\n",
       "      <th>NDVI_0</th>\n",
       "      <th>NDVI_1</th>\n",
       "      <th>NDVI_2</th>\n",
       "      <th>NDVI_3</th>\n",
       "      <th>NDVI_4</th>\n",
       "      <th>NDVI_5</th>\n",
       "      <th>x_coord</th>\n",
       "      <th>y_coord</th>\n",
       "      <th>geometry</th>\n",
       "    </tr>\n",
       "  </thead>\n",
       "  <tbody>\n",
       "    <tr>\n",
       "      <th>0</th>\n",
       "      <td>14.0</td>\n",
       "      <td>633.110474</td>\n",
       "      <td>1163.500000</td>\n",
       "      <td>605.942688</td>\n",
       "      <td>704.407593</td>\n",
       "      <td>1000.478943</td>\n",
       "      <td>475.000000</td>\n",
       "      <td>989.714661</td>\n",
       "      <td>1472.000000</td>\n",
       "      <td>917.137451</td>\n",
       "      <td>...</td>\n",
       "      <td>1464.000000</td>\n",
       "      <td>0.495518</td>\n",
       "      <td>0.497482</td>\n",
       "      <td>0.601012</td>\n",
       "      <td>0.491048</td>\n",
       "      <td>0.353007</td>\n",
       "      <td>0.647586</td>\n",
       "      <td>798045.0</td>\n",
       "      <td>9745385.0</td>\n",
       "      <td>POINT (798045.000 9745385.000)</td>\n",
       "    </tr>\n",
       "    <tr>\n",
       "      <th>1</th>\n",
       "      <td>14.0</td>\n",
       "      <td>1223.553223</td>\n",
       "      <td>1019.000000</td>\n",
       "      <td>780.588013</td>\n",
       "      <td>758.294128</td>\n",
       "      <td>1097.813843</td>\n",
       "      <td>1052.500000</td>\n",
       "      <td>1588.207031</td>\n",
       "      <td>1538.000000</td>\n",
       "      <td>1200.096680</td>\n",
       "      <td>...</td>\n",
       "      <td>1753.000000</td>\n",
       "      <td>0.397725</td>\n",
       "      <td>0.428166</td>\n",
       "      <td>0.545747</td>\n",
       "      <td>0.448360</td>\n",
       "      <td>0.378705</td>\n",
       "      <td>0.437038</td>\n",
       "      <td>793505.0</td>\n",
       "      <td>9750515.0</td>\n",
       "      <td>POINT (793505.000 9750515.000)</td>\n",
       "    </tr>\n",
       "    <tr>\n",
       "      <th>2</th>\n",
       "      <td>14.0</td>\n",
       "      <td>1185.094238</td>\n",
       "      <td>694.001404</td>\n",
       "      <td>925.010498</td>\n",
       "      <td>1078.967896</td>\n",
       "      <td>1150.344116</td>\n",
       "      <td>904.697632</td>\n",
       "      <td>1084.674072</td>\n",
       "      <td>1080.000732</td>\n",
       "      <td>1238.902710</td>\n",
       "      <td>...</td>\n",
       "      <td>1993.535034</td>\n",
       "      <td>0.343229</td>\n",
       "      <td>0.484296</td>\n",
       "      <td>0.302771</td>\n",
       "      <td>0.229523</td>\n",
       "      <td>0.266690</td>\n",
       "      <td>0.354119</td>\n",
       "      <td>812585.0</td>\n",
       "      <td>9726895.0</td>\n",
       "      <td>POINT (812585.000 9726895.000)</td>\n",
       "    </tr>\n",
       "    <tr>\n",
       "      <th>3</th>\n",
       "      <td>14.0</td>\n",
       "      <td>595.367004</td>\n",
       "      <td>744.999939</td>\n",
       "      <td>683.000000</td>\n",
       "      <td>771.706726</td>\n",
       "      <td>779.988953</td>\n",
       "      <td>1163.500000</td>\n",
       "      <td>749.723572</td>\n",
       "      <td>1007.999817</td>\n",
       "      <td>846.000000</td>\n",
       "      <td>...</td>\n",
       "      <td>2057.000000</td>\n",
       "      <td>0.498805</td>\n",
       "      <td>0.516304</td>\n",
       "      <td>0.532819</td>\n",
       "      <td>0.533361</td>\n",
       "      <td>0.487032</td>\n",
       "      <td>0.432646</td>\n",
       "      <td>776715.0</td>\n",
       "      <td>9731055.0</td>\n",
       "      <td>POINT (776715.000 9731055.000)</td>\n",
       "    </tr>\n",
       "    <tr>\n",
       "      <th>4</th>\n",
       "      <td>14.0</td>\n",
       "      <td>740.280273</td>\n",
       "      <td>511.609985</td>\n",
       "      <td>1122.128906</td>\n",
       "      <td>782.549683</td>\n",
       "      <td>647.000000</td>\n",
       "      <td>527.000000</td>\n",
       "      <td>882.693054</td>\n",
       "      <td>839.466980</td>\n",
       "      <td>1332.434326</td>\n",
       "      <td>...</td>\n",
       "      <td>1177.000000</td>\n",
       "      <td>0.527217</td>\n",
       "      <td>0.526064</td>\n",
       "      <td>0.509427</td>\n",
       "      <td>0.283039</td>\n",
       "      <td>0.367705</td>\n",
       "      <td>0.664596</td>\n",
       "      <td>770775.0</td>\n",
       "      <td>9724155.0</td>\n",
       "      <td>POINT (770775.000 9724155.000)</td>\n",
       "    </tr>\n",
       "  </tbody>\n",
       "</table>\n",
       "<p>5 rows × 70 columns</p>\n",
       "</div>"
      ],
      "text/plain": [
       "   LC_Class_I       blue_0       blue_1       blue_2       blue_3  \\\n",
       "0        14.0   633.110474  1163.500000   605.942688   704.407593   \n",
       "1        14.0  1223.553223  1019.000000   780.588013   758.294128   \n",
       "2        14.0  1185.094238   694.001404   925.010498  1078.967896   \n",
       "3        14.0   595.367004   744.999939   683.000000   771.706726   \n",
       "4        14.0   740.280273   511.609985  1122.128906   782.549683   \n",
       "\n",
       "        blue_4       blue_5      green_0      green_1      green_2  ...  \\\n",
       "0  1000.478943   475.000000   989.714661  1472.000000   917.137451  ...   \n",
       "1  1097.813843  1052.500000  1588.207031  1538.000000  1200.096680  ...   \n",
       "2  1150.344116   904.697632  1084.674072  1080.000732  1238.902710  ...   \n",
       "3   779.988953  1163.500000   749.723572  1007.999817   846.000000  ...   \n",
       "4   647.000000   527.000000   882.693054   839.466980  1332.434326  ...   \n",
       "\n",
       "      swir_2_5    NDVI_0    NDVI_1    NDVI_2    NDVI_3    NDVI_4    NDVI_5  \\\n",
       "0  1464.000000  0.495518  0.497482  0.601012  0.491048  0.353007  0.647586   \n",
       "1  1753.000000  0.397725  0.428166  0.545747  0.448360  0.378705  0.437038   \n",
       "2  1993.535034  0.343229  0.484296  0.302771  0.229523  0.266690  0.354119   \n",
       "3  2057.000000  0.498805  0.516304  0.532819  0.533361  0.487032  0.432646   \n",
       "4  1177.000000  0.527217  0.526064  0.509427  0.283039  0.367705  0.664596   \n",
       "\n",
       "    x_coord    y_coord                        geometry  \n",
       "0  798045.0  9745385.0  POINT (798045.000 9745385.000)  \n",
       "1  793505.0  9750515.0  POINT (793505.000 9750515.000)  \n",
       "2  812585.0  9726895.0  POINT (812585.000 9726895.000)  \n",
       "3  776715.0  9731055.0  POINT (776715.000 9731055.000)  \n",
       "4  770775.0  9724155.0  POINT (770775.000 9724155.000)  \n",
       "\n",
       "[5 rows x 70 columns]"
      ]
     },
     "execution_count": 7,
     "metadata": {},
     "output_type": "execute_result"
    }
   ],
   "source": [
    "rand_samples_features_path='Results/Rwanda_random_samples_features_all.geojson'\n",
    "rand_samples_features=gpd.read_file(rand_samples_features_path)\n",
    "rand_samples_features.head()"
   ]
  },
  {
   "cell_type": "markdown",
   "id": "50021c25-ec7c-477f-8833-31bf6a44927a",
   "metadata": {
    "tags": []
   },
   "source": [
    "## K-Means clustering\n",
    "Now that we have the features of random samples and training points, we can use them to train and apply the K-Means models for each class. The K-Means model requires a pre-defined number of clusters, which is unknown for many cases. One way to identify the optimal number of clusters is using the Calinski-Harabasz Index. The index is the ratio of the sum of between-clusters dispersion and of within-cluster dispersion for all clusters, where the index is higher when clusters are dense and well separated. More information about can be checked [here](https://scikit-learn.org/stable/modules/clustering.html#calinski-harabasz-index). In this example we calculate the indices calculated from clustering with a varied number of clusters (e.g. 2 to 30) and retain the clustering with the highest index.  \n",
    "> Note: You can also use other indices to assess the clustering and choose optimal number of clusterings, see information on other indices [here](https://scikit-learn.org/stable/modules/clustering.html#clustering-performance-evaluation). Depending on the distribution of you features, different indices may lead to different optimal cluster numbers. Your number of clusters range will also likely result in different optimal clustering.\n",
    "\n",
    "Here we put the procedures in identifying the optimal clustering into a function where the inputs are the input features, minimum and maximum number of clusters, and the outputs are the optimal number of clusters, trained K-Means model and corresponding clustering labels:"
   ]
  },
  {
   "cell_type": "code",
   "execution_count": 8,
   "id": "2a5f87da-6d70-4ee5-b621-57ea126ed1a4",
   "metadata": {},
   "outputs": [],
   "source": [
    "def find_clusters_KMeans(data,min_cluster=2,max_cluster=10):\n",
    "    highest_score=-999\n",
    "    n_cluster_optimal=min_cluster\n",
    "    kmeans_model_optimal=None # initialise optimal model parameters\n",
    "    labels_optimal=None\n",
    "    for n_cluster in range(min_cluster,max_cluster+1):\n",
    "        kmeans_model = KMeans(n_clusters=n_cluster, random_state=1).fit(data)\n",
    "        labels=kmeans_model.predict(data)\n",
    "        score=metrics.calinski_harabasz_score(data, labels)\n",
    "        print('Calinski-Harabasz score for ',n_cluster,' clusters is: ',score)\n",
    "        if (highest_score==-999)or(highest_score<score):\n",
    "            highest_score=score\n",
    "            n_cluster_optimal=n_cluster\n",
    "            kmeans_model_optimal=kmeans_model\n",
    "            labels_optimal=labels\n",
    "    if min_cluster == max_cluster:\n",
    "        pass\n",
    "    else:\n",
    "        print('Best number of clusters: %s'%(n_cluster_optimal))\n",
    "    return n_cluster_optimal,kmeans_model_optimal,labels_optimal"
   ]
  },
  {
   "cell_type": "markdown",
   "id": "0835f9cf",
   "metadata": {},
   "source": [
    "Using the above function, we now cluster the training features for the first class as an example. We first retain the random sample and training sample features:"
   ]
  },
  {
   "cell_type": "code",
   "execution_count": 9,
   "id": "e8102770",
   "metadata": {},
   "outputs": [
    {
     "name": "stdout",
     "output_type": "stream",
     "text": [
      "Number of training pints for the class:  1000\n"
     ]
    }
   ],
   "source": [
    "# get class label\n",
    "i=lc_classes[0]\n",
    "# subset random sample features for this class\n",
    "rand_features_single_class=rand_samples_features[rand_samples_features[class_attr]==i].reset_index(drop=True)\n",
    "# subset original training points for this class\n",
    "td_single_class=training_features[training_features[class_attr]==i].reset_index(drop=True)\n",
    "print('Number of training pints for the class: ',len(td_single_class))"
   ]
  },
  {
   "cell_type": "markdown",
   "id": "b8991942",
   "metadata": {},
   "source": [
    "We then apply the `find_clusters_KMeans` function to the random sample features to find optimal clustering. Note that K-Means model is sensitive to feature scales, so we need to standardise all features before applying the model. Here we use scikitlearn `StandardScaler` to implement the feature standardisation. Remember to drop coordinates and geometry columns from the features for the clustering."
   ]
  },
  {
   "cell_type": "code",
   "execution_count": null,
   "id": "993a77ee",
   "metadata": {},
   "outputs": [
    {
     "name": "stdout",
     "output_type": "stream",
     "text": [
      "Calinski-Harabasz score for  2  clusters is:  698.2104051259678\n",
      "Calinski-Harabasz score for  3  clusters is:  561.6686985763257\n",
      "Calinski-Harabasz score for  4  clusters is:  461.54796701023037\n",
      "Calinski-Harabasz score for  5  clusters is:  401.0501212495297\n",
      "Calinski-Harabasz score for  6  clusters is:  363.2355331567897\n",
      "Calinski-Harabasz score for  7  clusters is:  328.64855541584444\n",
      "Calinski-Harabasz score for  8  clusters is:  309.48400225669167\n",
      "Calinski-Harabasz score for  9  clusters is:  291.9934111225683\n",
      "Calinski-Harabasz score for  10  clusters is:  285.6206540543185\n",
      "Calinski-Harabasz score for  11  clusters is:  271.6957968754068\n",
      "Calinski-Harabasz score for  12  clusters is:  258.32793718607684\n",
      "Calinski-Harabasz score for  13  clusters is:  253.74123662517127\n",
      "Calinski-Harabasz score for  14  clusters is:  244.19589899008167\n",
      "Calinski-Harabasz score for  15  clusters is:  236.89813821886023\n",
      "Calinski-Harabasz score for  16  clusters is:  229.60494250577455\n",
      "Calinski-Harabasz score for  17  clusters is:  225.69478033025237\n",
      "Calinski-Harabasz score for  18  clusters is:  223.90004419371957\n",
      "Calinski-Harabasz score for  19  clusters is:  209.79342065052793\n",
      "Calinski-Harabasz score for  20  clusters is:  205.72081267210913\n",
      "Calinski-Harabasz score for  21  clusters is:  204.8224616057022\n",
      "Calinski-Harabasz score for  22  clusters is:  198.16266428345412\n",
      "Calinski-Harabasz score for  23  clusters is:  196.07530979351853\n",
      "Calinski-Harabasz score for  24  clusters is:  192.77622590162363\n",
      "Calinski-Harabasz score for  25  clusters is:  186.84121058658354\n",
      "Calinski-Harabasz score for  26  clusters is:  185.33831342513557\n",
      "Calinski-Harabasz score for  27  clusters is:  184.18553057671934\n",
      "Calinski-Harabasz score for  28  clusters is:  179.9574978907734\n"
     ]
    }
   ],
   "source": [
    "# initialise standard scaler\n",
    "scaler = StandardScaler()\n",
    "# fit random samples\n",
    "scaler.fit(rand_features_single_class.iloc[:,1:-3])\n",
    "# transform random samples\n",
    "rand_features_single_class=scaler.transform(rand_features_single_class.iloc[:,1:-3])\n",
    "# find optimal clustering\n",
    "n_cluster_optimal,kmeans_model_optimal,labels_optimal=find_clusters_KMeans(rand_features_single_class,min_cluster=2,max_cluster=30)"
   ]
  },
  {
   "cell_type": "markdown",
   "id": "437b7bd2-c604-4802-ae25-5edf67cfffc9",
   "metadata": {},
   "source": [
    "Additionally, we can set the came value for `min_cluster` and `max_cluster` (e.g. `min_cluster=2, max_cluster=2`). This will return the clustering score for our set number of clusters, in this example that is 2. \n",
    "> Note: Please note that this might not be the optimal clustering as it is only processing the score for the single cluster value."
   ]
  },
  {
   "cell_type": "code",
   "execution_count": null,
   "id": "447f94e8-1da0-413d-838b-fc8d123be385",
   "metadata": {},
   "outputs": [],
   "source": [
    "# find clustering score for single cluster\n",
    "n_cluster_optimal,kmeans_model_optimal,labels_optimal=find_clusters_KMeans(rand_features_single_class,min_cluster=2,max_cluster=2)"
   ]
  },
  {
   "cell_type": "markdown",
   "id": "e133aa86",
   "metadata": {},
   "source": [
    "After identifying the optimal clustering, we can apply the optimal K-Means model to our training features. Remember to apply feature standardisation before implementing the clustering. Here we assign the clustering labels to a new column `cluster`:"
   ]
  },
  {
   "cell_type": "code",
   "execution_count": null,
   "id": "fe8e1ac0",
   "metadata": {},
   "outputs": [],
   "source": [
    "# normalisation before clustering\n",
    "model_input=scaler.transform(td_single_class.iloc[:,1:-3])\n",
    "# predict clustering labels\n",
    "labels_kmeans = kmeans_model_optimal.predict(model_input)\n",
    "# append clustering results to pixel coordinates\n",
    "td_single_class['cluster']=labels_kmeans"
   ]
  },
  {
   "cell_type": "markdown",
   "id": "a4d34d72",
   "metadata": {},
   "source": [
    "## Filtering training features\n",
    "\n",
    "We now filter the training features/points based on the cluster size. Here we assume cluster size lower than 10% of the overall sample szie are likely to be misclassified or changed samples.    \n",
    ">Note: Depending on your own training data the K-Means method may not work well, so it is recommanded that you have more understanding on your training points and test on how it works, e.g. check if it successfully filtered out the points you believe were misclassified while keeping good training samples. You should also try to adjust the cluster size threshold if it doesn't effectively remove false samples.\n",
    "\n",
    "There are also other options for removal of outliers which can be tested on, e.g. check [here](https://scikit-learn.org/stable/modules/outlier_detection.html) for using scikit-learn for outlier detection."
   ]
  },
  {
   "cell_type": "code",
   "execution_count": null,
   "id": "fd2f7c96-6bbb-4670-a300-24bf389d72bf",
   "metadata": {},
   "outputs": [],
   "source": [
    "frequency_threshold=0.1 # threshold of cluter frequency\n",
    "cluster_frequency=td_single_class['cluster'].map(td_single_class['cluster'].value_counts(normalize=True)) # calculate cluster frequencies for the training samples\n",
    "td_single_class['cluster_frequency']=cluster_frequency # append as a column\n",
    "td_single_class_filtered=td_single_class[td_single_class['cluster_frequency']>=frequency_threshold] # filter by cluster frequency\n",
    "print('Number of training data after filtering: ',len(td_single_class_filtered))"
   ]
  },
  {
   "cell_type": "markdown",
   "id": "7da70a73",
   "metadata": {},
   "source": [
    "You can compare the number of training points before and after the filtering and check whether and how many pixels were filtered out. To implement above clustering and filtering training features for all class, let's put the steps together and iterate through all classes. Here we append filtered features for all classes into a single dataframe `training_features_filtered`:"
   ]
  },
  {
   "cell_type": "code",
   "execution_count": null,
   "id": "4fd905a2-2137-4fb0-8c4b-3098c8c96b29",
   "metadata": {},
   "outputs": [],
   "source": [
    "training_features_filtered=None # filtered training data for all classes\n",
    "scaler = StandardScaler() # initialise standard scaler\n",
    "for i in lc_classes: # filtering training data for each class\n",
    "    #i=1 # test for first class\n",
    "    print('Processing class ',i)\n",
    "    # subset random sample features for this class\n",
    "    rand_features_single_class=rand_samples_features[rand_samples_features[class_attr]==i].reset_index(drop=True)\n",
    "    # subset original training points for this class\n",
    "    td_single_class=training_features[training_features[class_attr]==i].reset_index(drop=True)\n",
    "    print('Number of training pints for the class: ',len(td_single_class))\n",
    "    # fit random samples\n",
    "    scaler.fit(rand_features_single_class.iloc[:,1:-3])\n",
    "    # transform random samples\n",
    "    rand_features_single_class=scaler.transform(rand_features_single_class.iloc[:,1:-3])\n",
    "    # find optimal clustering\n",
    "    n_cluster_optimal,kmeans_model_optimal,labels_optimal=find_clusters_KMeans(rand_features_single_class,min_cluster=2,max_cluster=10)\n",
    "\n",
    "    # normalisation before clustering\n",
    "    model_input=scaler.transform(td_single_class.iloc[:,1:-3])\n",
    "    # predict clustering labels\n",
    "    labels_kmeans = kmeans_model_optimal.predict(model_input)\n",
    "    # append clustering results to pixel coordinates\n",
    "    td_single_class['cluster']=labels_kmeans\n",
    "    # append frequency of each cluster\n",
    "    cluster_frequency=td_single_class['cluster'].map(td_single_class['cluster'].value_counts(normalize=True))\n",
    "    td_single_class['cluster_frequency']=cluster_frequency\n",
    "    # filter by cluster frequency\n",
    "    td_single_class_filtered=td_single_class[td_single_class['cluster_frequency']>=frequency_threshold]\n",
    "    print('Number of training data after filtering: ',len(td_single_class_filtered))\n",
    "    \n",
    "    # append the filtered training points of this class to final filtered training data\n",
    "    if training_features_filtered is None:\n",
    "        training_features_filtered=td_single_class_filtered\n",
    "    else:\n",
    "        training_features_filtered=pd.concat([training_features_filtered, td_single_class_filtered])"
   ]
  },
  {
   "cell_type": "markdown",
   "id": "7ffedd3d-6817-4c3a-aca6-d5b5d98f85ad",
   "metadata": {},
   "source": [
    "## Export filtered training features\n",
    "Once we've filtered the training signatures, we can write the filtered data to disk, which will allow us to import the data in the next step(s) of the workflow."
   ]
  },
  {
   "cell_type": "code",
   "execution_count": null,
   "id": "0b97829f-3578-4ce3-95e6-ba2be2b99820",
   "metadata": {},
   "outputs": [],
   "source": [
    "# export the filtered training data as geojson file\n",
    "output_file = \"Results/Rwanda_training_features_2021_filtered.geojson\"\n",
    "training_features_filtered.to_file(output_file, driver=\"GeoJSON\")"
   ]
  },
  {
   "cell_type": "code",
   "execution_count": null,
   "id": "9ed675c5-4dc6-4f71-850f-55e0c685334f",
   "metadata": {},
   "outputs": [],
   "source": []
  }
 ],
 "metadata": {
  "kernelspec": {
   "display_name": "Python 3 (ipykernel)",
   "language": "python",
   "name": "python3"
  },
  "language_info": {
   "codemirror_mode": {
    "name": "ipython",
    "version": 3
   },
   "file_extension": ".py",
   "mimetype": "text/x-python",
   "name": "python",
   "nbconvert_exporter": "python",
   "pygments_lexer": "ipython3",
   "version": "3.8.10"
  },
  "vscode": {
   "interpreter": {
    "hash": "01a9736267bf300689e8e016092cd01f0c67384dd94651ae6e139a291bc8cc97"
   }
  }
 },
 "nbformat": 4,
 "nbformat_minor": 5
}
