{
 "cells": [
  {
   "cell_type": "markdown",
   "id": "c4555d86-4eb4-4185-93d8-52f55da43df9",
   "metadata": {},
   "source": [
    "# Filter Training Data\n"
   ]
  },
  {
   "cell_type": "markdown",
   "id": "9f767b5b-dd6e-48f8-aba4-259d72d8804a",
   "metadata": {
    "tags": []
   },
   "source": [
    "## Background\n",
    "\n",
    "It is not uncommon for existing training data to be collected over a different time period than that of the study period. Meaning that a dataset may not reflect the real ground cover due to temporal changes. \n",
    "\n",
    "The Food and Agriculture Organization (FAO) adopted a training data filtering method for any given reference year that is within a time span (e.g. 5 years) from an existing baseline, and tested the method in the production of land cover mapping for Lesotho. It is assumed that the majority of reference labels will remain valid from one year to the previous/next. Based on this assumption, the reference labels which have changed are the minority, and should be detectable through the use of outlier detection methods like K-Means clustering. More details on the method and how it works for Lesotho can be found in the published paper ([De Simone et al 2022](https://www.mdpi.com/2072-4292/14/14/3294))."
   ]
  },
  {
   "cell_type": "markdown",
   "id": "b48ec80f-8f94-45f9-808c-712a572f8d89",
   "metadata": {},
   "source": [
    "## Description\n",
    "\n",
    "This notebook will implement FAO's automatic filtering of a training dataset for a target year using points from a geojson or shapefile and a reference classification map of a previous year. The steps include:\n",
    "1. Load extracted training features\n",
    "2. Generate stratified random samples for each class on the reference land cover map using `random_sampling` and extract their features using `collect_training_data`\n",
    "3. Train K-Means models using the extracted features of the random samples\n",
    "4. Apply clustering on training features and remove minor clusters\n",
    "5. Export the filtered training features to disk for use in subsequent scripts\n",
    "\n",
    "To run this analysis, run all the cells in the notebook, starting with the \"Load packages\" cell."
   ]
  },
  {
   "cell_type": "markdown",
   "id": "cdba3177-6db9-4440-9c8b-d5437f41e7f4",
   "metadata": {},
   "source": [
    "### Load packages\n"
   ]
  },
  {
   "cell_type": "code",
   "execution_count": null,
   "id": "7fccc7e0-768c-4479-a777-6ce9efbf4d86",
   "metadata": {},
   "outputs": [],
   "source": [
    "%matplotlib inline\n",
    "import warnings\n",
    "import datacube\n",
    "import numpy as np\n",
    "import geopandas as gpd\n",
    "import pandas as pd\n",
    "import xarray as xr\n",
    "from sklearn.cluster import KMeans\n",
    "from sklearn.preprocessing import StandardScaler\n",
    "from sklearn import metrics\n",
    "from random_sampling import random_sampling # adapted from function by Chad Burton: https://gist.github.com/cbur24/04760d645aa123a3b1817b07786e7d9f\n",
    "from deafrica_tools.bandindices import calculate_indices\n",
    "from deafrica_tools.classification import collect_training_data\n",
    "from deafrica_tools.datahandling import load_ard\n",
    "from odc.io.cgroups import get_cpu_quota\n",
    "from odc.algo import xr_geomedian\n",
    "import matplotlib.pyplot as plt"
   ]
  },
  {
   "cell_type": "markdown",
   "id": "6efee6d6-c909-427c-bcb7-2943ae33b6bc",
   "metadata": {},
   "source": [
    "## Analysis parameters\n",
    "* `training_features_path`: The path to the file containing training features we extracted through the previous module `1_Extract_Training_Features.ipynb`.\n",
    "* `reference_map_path`: The path to the reference classification map, which will be used as a stratification layer to extract random samples for each class. In this example, we use the clipped and class-merged classification map produced from the notebook `0_Generate_Training_Points.ipynb`.**Note that the reference map pixel values should contain the class values existing in the training data.**\n",
    "* `class_attr`: This is the name of column in your shapefile/geojson file attribute table that contains the class labels. **The class labels must be integers**\n",
    "* `output_crs`: Output spatial reference system."
   ]
  },
  {
   "cell_type": "code",
   "execution_count": null,
   "id": "62286a65-b4ae-4939-9c35-8b1675899e38",
   "metadata": {},
   "outputs": [],
   "source": [
    "training_features_path = 'Results/Training_features.geojson'\n",
    "reference_map_path='Results/rwanda_landcover_2015_scheme_ii_clipped.tif'\n",
    "class_attr = 'LC_Class_I' # class label in integer format\n",
    "output_crs='epsg:32735' # WGS84/UTM Zone 35S"
   ]
  },
  {
   "cell_type": "markdown",
   "id": "c277e7e2-e195-43b0-9266-77a62813db76",
   "metadata": {},
   "source": [
    "## Load input data\n",
    "\n",
    "We now load the training features .txt file using `geopandas`. The pandas dataframe should contain columns `class_attr` identifying class labels and the bi-monthly geomedians of the nine spectral bands and NDVI that we extracted through previous module. It also contains the coordinates and geometry columns."
   ]
  },
  {
   "cell_type": "code",
   "execution_count": null,
   "id": "8ecf90a7-4fdf-40a9-90fc-edce613c6f2e",
   "metadata": {},
   "outputs": [],
   "source": [
    "training_features= gpd.read_file(training_features_path)\n",
    "training_features.head() # Plot first five rows"
   ]
  },
  {
   "cell_type": "markdown",
   "id": "1983c2a7",
   "metadata": {},
   "source": [
    "Using the `class_attr` column we can get the class values, which we will use later to process by class. For this extracted training points, the class names corresponding to the class values are: `1: Forest, 5: Grassland, 7: Shrubland, 9: Perennial Cropland, 10: Annual Cropland, 11: Wetland, 12: Water Body, 13: Urban Settlement, 14: Bare Land`."
   ]
  },
  {
   "cell_type": "code",
   "execution_count": null,
   "id": "5266d539",
   "metadata": {},
   "outputs": [],
   "source": [
    "lc_classes=training_features[class_attr].unique()\n",
    "print('land cover classes:\\n',lc_classes)"
   ]
  },
  {
   "cell_type": "markdown",
   "id": "3c42d4cf-ba19-45a8-b095-f42a070e4d92",
   "metadata": {},
   "source": [
    "The training data filtering method also requires a reference land cover map as a stratification layer to generate random training samples, which will be used to train the K-Means models, so we now load the class-merged clipped reference classification map that we previously produced:"
   ]
  },
  {
   "cell_type": "code",
   "execution_count": null,
   "id": "0486c4df-5048-49ba-a572-90bd8d69d8ea",
   "metadata": {},
   "outputs": [],
   "source": [
    "# load reference classification map\n",
    "reference_map = xr.open_dataset(reference_map_path,engine=\"rasterio\").astype(np.uint8)\n",
    "reference_map=reference_map.to_array().squeeze()\n",
    "print('Reference land cover classifcation raster:\\n',reference_map)"
   ]
  },
  {
   "cell_type": "markdown",
   "id": "67922b67",
   "metadata": {},
   "source": [
    "## Generate random samples\n",
    "As part of the filtering method, we need some samples for each class to train a K-Means model, which will then be applied to cluster the training features. Here we generate some randomly distributed samples for each class using the reference classification map as stratification layer, in the same way we demonstrated to generate training samples in the notebook `0_Generate_Training_Points.ipynb`. Here we increase the total number of samples to 1000 and minimum number of samples to 50 for the `random_sampling` function so that we get more samples to train the K-Means models. You can choose to export the generated random samples if you would like to check it:"
   ]
  },
  {
   "cell_type": "code",
   "execution_count": null,
   "id": "430048b5-9d4c-4202-95e2-bd632759a77d",
   "metadata": {},
   "outputs": [],
   "source": [
    "class_attr='LC_Class_I'\n",
    "out_fname='Results/Random_samples.geojson'\n",
    "gpd_random_samples=random_sampling(da=reference_map,n=1000,sampling='stratified_random',\n",
    "                                   min_sample_n=50,out_fname=out_fname,class_attr=class_attr,drop_value=0)\n",
    "gpd_random_samples[class_attr]=gpd_random_samples[class_attr].astype(int)\n",
    "gpd_random_samples=gpd_random_samples.set_crs(reference_map.rio.crs)"
   ]
  },
  {
   "cell_type": "markdown",
   "id": "0a07c8c5",
   "metadata": {},
   "source": [
    "## Extract features for the random samples\n",
    "With the random sample points available, we now need to extract `features` of the samples to train the K-Means models. Here we only use the NDVI composites to train the models. Through the previous notebook `1_Extract_Training_Features.ipynb` we demonstrated how to define query and extract features for a given set of points, so here we just reuse the functions and implement the same steps, but only keep NDVI bands:"
   ]
  },
  {
   "cell_type": "code",
   "execution_count": null,
   "id": "d79eaaed-8e92-42ab-9b70-cbeaf331dab0",
   "metadata": {},
   "outputs": [],
   "source": [
    "time = ('2021')\n",
    "measurements = ['red','nir_1']\n",
    "resolution = (-10,10)\n",
    "\n",
    "# detect the number of CPUs\n",
    "ncpus=round(get_cpu_quota())\n",
    "print('ncpus = '+str(ncpus))\n",
    "\n",
    "query = {\n",
    "    'time': time,\n",
    "    'measurements': measurements,\n",
    "    'output_crs': output_crs,\n",
    "    'resolution': resolution\n",
    "}\n",
    "\n",
    "# define a function to feature layers\n",
    "def feature_layers(query): \n",
    "    # connect to the datacube so we can access DE Africa data\n",
    "    dc = datacube.Datacube(app='feature_layers')\n",
    "    \n",
    "    # load Sentinel-2 analysis ready data\n",
    "    ds = load_ard(dc=dc,\n",
    "                  products=['s2_l2a'],\n",
    "                  group_by='solar_day',\n",
    "                  verbose=False,\n",
    "                  **query)\n",
    "    # calculate NDVI\n",
    "    ds = calculate_indices(ds,\n",
    "                           index=['NDVI'],\n",
    "                           drop=True,\n",
    "                           satellite_mission='s2')\n",
    "    # calculate bi-monthly geomedian\n",
    "    ds=ds.resample(time='2MS').map(xr_geomedian)\n",
    "    # stack multi-temporal measurements and rename them\n",
    "    n_time=ds.dims['time']\n",
    "    list_measurements=list(ds.keys())\n",
    "    list_stack_measures=[]\n",
    "    for j in range(len(list_measurements)):\n",
    "        for k in range(n_time):\n",
    "            variable_name=list_measurements[j]+'_'+str(k)\n",
    "            measure_single=ds[list_measurements[j]].isel(time=k).rename(variable_name)\n",
    "            list_stack_measures.append(measure_single)\n",
    "    ds_stacked=xr.merge(list_stack_measures,compat='override')\n",
    "    return ds_stacked\n",
    "\n",
    "# collect training data\n",
    "column_names, model_input = collect_training_data(\n",
    "    gdf=gpd_random_samples,\n",
    "    dc_query=query,\n",
    "    ncpus=ncpus,\n",
    "    field=class_attr,\n",
    "    zonal_stats=None,\n",
    "    feature_func=feature_layers,\n",
    "    return_coords=False)"
   ]
  },
  {
   "cell_type": "markdown",
   "id": "ff93244f-60a5-4ddb-8e50-f5f1d551330a",
   "metadata": {},
   "source": [
    "Optionally you can export the extracted features for the random samples:"
   ]
  },
  {
   "cell_type": "code",
   "execution_count": null,
   "id": "fe6d34b4-f54f-4641-8b1d-5574ca56c057",
   "metadata": {},
   "outputs": [],
   "source": [
    "# convert the data to geopandas dataframe\n",
    "rand_samples_features=pd.DataFrame(data=model_input,columns=column_names)\n",
    "#set the name and location of the output file\n",
    "output_file = 'Results/Random_samples_features.txt'\n",
    "#Export files to disk\n",
    "rand_samples_features.to_csv(output_file, header=True, index=None, sep=' ')"
   ]
  },
  {
   "cell_type": "markdown",
   "id": "50021c25-ec7c-477f-8833-31bf6a44927a",
   "metadata": {
    "tags": []
   },
   "source": [
    "## K-Means clustering\n",
    "Now that we have the features of random samples and training points, we can use them to train and apply the K-Means models for each class. The K-Means model requires a pre-defined number of clusters, which is unknown for many cases. One way to identify the optimal number of clusters is using the Calinski-Harabasz Index. The index is the ratio of the sum of between-clusters dispersion and of within-cluster dispersion for all clusters, where the index is higher when clusters are dense and well separated. More information about can be checked [here](https://scikit-learn.org/stable/modules/clustering.html#calinski-harabasz-index). In this example we calculate the indices calculated from clustering with a varied number of clusters (e.g. 5 to 20) and retain the clustering with the highest index.  \n",
    "> Note: You can also use other indices to assess the clustering and choose optimal number of clusterings, see information on other indices [here](https://scikit-learn.org/stable/modules/clustering.html#clustering-performance-evaluation). Depending on the distribution of you features, different indices may lead to different optimal cluster numbers. Your number of clusters range will also likely result in different optimal clustering.\n",
    "\n",
    "Here we put the procedures in identifying the optimal clustering into a function where the inputs are the input features as numpy array, minimum and maximum numbers of clusters, and the outputs are the optimal number of clusters, trained K-Means model and corresponding clustering labels:"
   ]
  },
  {
   "cell_type": "code",
   "execution_count": null,
   "id": "18f05f52",
   "metadata": {},
   "outputs": [],
   "source": [
    "def find_clusters_KMeans(data,min_cluster=5,max_cluster=20):\n",
    "    highest_score=-999\n",
    "    n_cluster_optimal=min_cluster\n",
    "    kmeans_model_optimal=None # initialise optimal model parameters\n",
    "    labels_optimal=None\n",
    "    if min_cluster==max_cluster:\n",
    "        print('Implementing kmeans clustering with number of clusters: ',max_cluster)\n",
    "        kmeans_model_optimal = KMeans(n_clusters=max_cluster, random_state=1).fit(data)\n",
    "        labels_optimal=kmeans_model_optimal.predict(data)\n",
    "        n_cluster_optimal=max_cluster\n",
    "    else:\n",
    "        for n_cluster in range(min_cluster,max_cluster+1):\n",
    "            kmeans_model = KMeans(n_clusters=n_cluster, random_state=1).fit(data)\n",
    "            labels=kmeans_model.predict(data)\n",
    "            score=metrics.calinski_harabasz_score(data, labels)\n",
    "            print('Calinski-Harabasz score for ',n_cluster,' clusters is: ',score)\n",
    "            if (highest_score==-999)or(highest_score<score):\n",
    "                highest_score=score\n",
    "                n_cluster_optimal=n_cluster\n",
    "                kmeans_model_optimal=kmeans_model\n",
    "                labels_optimal=labels\n",
    "        print('Best number of clusters: %s'%(n_cluster_optimal))\n",
    "    return n_cluster_optimal,kmeans_model_optimal,labels_optimal"
   ]
  },
  {
   "cell_type": "markdown",
   "id": "7513a9ab-5297-47b6-80e7-a6b3621cf71f",
   "metadata": {},
   "source": [
    "## Training data clustering - example for one class"
   ]
  },
  {
   "cell_type": "markdown",
   "id": "0835f9cf",
   "metadata": {},
   "source": [
    "Using the above function, we now cluster the training features for the class Urban Settlement (13) as an example. We retain the NDVI features of random samples for the class, then apply the `find_clusters_KMeans` function to the random sample features to find optimal clustering. Here as an example we set the minimum and maximum numbers of clusters as 5 and 20, and you may want change the numbers based on your understanding on the class:"
   ]
  },
  {
   "cell_type": "code",
   "execution_count": null,
   "id": "e8102770",
   "metadata": {},
   "outputs": [],
   "source": [
    "# class value\n",
    "class_value=13\n",
    "# subset random sample features for this class\n",
    "rand_features_single_class=rand_samples_features[rand_samples_features[class_attr]==class_value].reset_index(drop=True)\n",
    "np_rand_features=rand_features_single_class.to_numpy()[:,1:]\n",
    "# find optimal clustering\n",
    "n_cluster_optimal,kmeans_model_optimal,labels_optimal=find_clusters_KMeans(np_rand_features,min_cluster=5,max_cluster=20)"
   ]
  },
  {
   "cell_type": "markdown",
   "id": "3c7a3ea5-6630-4ed0-a5c2-1aeb33854767",
   "metadata": {},
   "source": [
    "**Note**: If you are not happy with the number of cluster derived from the Calinski-Harabasz score, simply set both the `min_cluster` and `max_cluster` the same number you want and run the function, For example if you want 10 clusters then use the function as:"
   ]
  },
  {
   "cell_type": "code",
   "execution_count": null,
   "id": "64621d52-108c-4e18-b907-04e54409f7e3",
   "metadata": {},
   "outputs": [],
   "source": [
    "n_cluster_optimal,kmeans_model_optimal,labels_optimal=find_clusters_KMeans(np_rand_features,min_cluster=10,max_cluster=10)"
   ]
  },
  {
   "cell_type": "markdown",
   "id": "e133aa86",
   "metadata": {},
   "source": [
    "After identifying the optimal clustering, we can apply the optimal K-Means model to NDVIs of our training points. Here we assign the clustering labels to a new column `cluster`:"
   ]
  },
  {
   "cell_type": "code",
   "execution_count": null,
   "id": "fe8e1ac0",
   "metadata": {},
   "outputs": [],
   "source": [
    "# subset original training points for this class\n",
    "td_single_class=training_features[training_features[class_attr]==class_value].reset_index(drop=True)\n",
    "print('Number of training pints for the class: ',len(td_single_class))\n",
    "np_td_single_class=td_single_class.to_numpy()[:,-9:-3]\n",
    "# predict clustering labels\n",
    "labels_kmeans = kmeans_model_optimal.predict(np_td_single_class)\n",
    "# append clustering results to pixel coordinates\n",
    "td_single_class['cluster']=labels_kmeans"
   ]
  },
  {
   "cell_type": "markdown",
   "id": "3d8ac4cf-c9a2-4411-88ee-8a4d032f2159",
   "metadata": {},
   "source": [
    "To visualise the distribution of a two-month composite of NDVI values for all clusters (e.g. March-April NDVI composites):"
   ]
  },
  {
   "cell_type": "code",
   "execution_count": null,
   "id": "b6855de8-8c57-4ed6-a422-8e343f5475b0",
   "metadata": {},
   "outputs": [],
   "source": [
    "bins = np.linspace(-0.5, 1, 150)\n",
    "for cluster in range(n_cluster_optimal):\n",
    "    td_cluster=td_single_class[td_single_class['cluster']==cluster]\n",
    "    td_cluster=td_cluster['NDVI_2'].to_numpy()\n",
    "    plt.hist(td_cluster,bins, alpha=0.5, label='cluster'+str(cluster),rwidth=0.8);\n",
    "    plt.legend()\n",
    "    plt.xlabel('NDVI')\n",
    "    plt.ylabel('Count')"
   ]
  },
  {
   "cell_type": "markdown",
   "id": "cb12b5a7-3e88-48bf-b2d3-f4b56d7a2f45",
   "metadata": {},
   "source": [
    "We now filter the training features/points based on the cluster size. Here we assume cluster size lower than 10% of the overall sample szie are likely to be misclassified or changed samples.    \n",
    ">Note: Depending on your own training data the K-Means method may not work well, so it is recommanded that you have more understanding on your training points and test on how it works, e.g. check if it successfully filtered out the points you believe were misclassified while keeping good training samples. You should also try to adjust the cluster size threshold if it doesn't effectively remove false samples.\n",
    "\n",
    "There are also other options for removal of outliers which can be tested on, e.g. check [here](https://scikit-learn.org/stable/modules/outlier_detection.html) for using scikit-learn for outlier detection."
   ]
  },
  {
   "cell_type": "code",
   "execution_count": null,
   "id": "9cc49dd0-2396-484b-808d-657af599a5ef",
   "metadata": {},
   "outputs": [],
   "source": [
    "frequency_threshold=0.1 # threshold of cluter frequency\n",
    "cluster_frequency=td_single_class['cluster'].map(td_single_class['cluster'].value_counts(normalize=True)) # calculate cluster frequencies for the training samples\n",
    "td_single_class['cluster_frequency']=cluster_frequency # append as a column\n",
    "td_single_class_filtered=td_single_class[td_single_class['cluster_frequency']>=frequency_threshold] # filter by cluster frequency\n",
    "print('Number of training data after filtering: ',len(td_single_class_filtered))"
   ]
  },
  {
   "cell_type": "markdown",
   "id": "f2e22329-c20c-44b6-9b3b-2f931ac36f79",
   "metadata": {},
   "source": [
    "Through comparing the number of training points before and after the filtering you would know if there's any points filtered out. Optionally you can display the points before and after filtering:"
   ]
  },
  {
   "cell_type": "code",
   "execution_count": null,
   "id": "6d98b41b-2e37-4deb-aeb2-8c80aaf4d66a",
   "metadata": {},
   "outputs": [],
   "source": [
    "td_single_class.explore(\n",
    "    tiles = \"https://mt1.google.com/vt/lyrs=y&x={x}&y={y}&z={z}\", \n",
    "    attr ='Imagery @2022 Landsat/Copernicus, Map data @2022 Google',\n",
    "    popup=True,\n",
    "    cmap='viridis',\n",
    "    style_kwds=dict(radius= 5, color= 'red', fillOpacity= 0.8, fillColor= 'red', weight= 3),\n",
    "    )"
   ]
  },
  {
   "cell_type": "code",
   "execution_count": null,
   "id": "f4b8c44f-65da-49c7-b016-68ea4bc1c642",
   "metadata": {},
   "outputs": [],
   "source": [
    "td_single_class_filtered.explore(\n",
    "    tiles = \"https://mt1.google.com/vt/lyrs=y&x={x}&y={y}&z={z}\", \n",
    "    attr ='Imagery @2022 Landsat/Copernicus, Map data @2022 Google',\n",
    "    popup=True,\n",
    "    cmap='viridis',\n",
    "    style_kwds=dict(radius= 5, color= 'blue', fillOpacity= 0.8, fillColor= 'blue', weight= 3),\n",
    "    )"
   ]
  },
  {
   "cell_type": "markdown",
   "id": "8f139e22-8ba8-40e8-af8c-bc75d0654883",
   "metadata": {},
   "source": [
    "**Note**: If you want to fine-tune the number of clusters for another class, simply change the `class_value` to another class value and re-run the steps within this `Training data clustering - example for one class` section. One you are happy with the optimal numbers of clusters, change below dictionary `None` to the optimal number for each class:"
   ]
  },
  {
   "cell_type": "code",
   "execution_count": null,
   "id": "a7490c84-48ab-43ea-a202-fd334a4da896",
   "metadata": {},
   "outputs": [],
   "source": [
    "optimal_clusters={1:None, 5: None, 7: None,  9: None, 10: None, 11: None,  12: None,  13: None,  14: None}"
   ]
  },
  {
   "cell_type": "markdown",
   "id": "a4d34d72",
   "metadata": {},
   "source": [
    "## Training data clustering - all classes\n",
    "To implement above clustering and filtering training features for all class, let's put the steps together and iterate through all classes. Here we append filtered features for all classes into a single dataframe `training_features_filtered`. Note if you don't change above dictionary `optimal_clusters` the script will still use the `find_clusters_KMeans` to find the optimal number of clusters based on the Calinski-Harabasz score:"
   ]
  },
  {
   "cell_type": "code",
   "execution_count": null,
   "id": "4fd905a2-2137-4fb0-8c4b-3098c8c96b29",
   "metadata": {},
   "outputs": [],
   "source": [
    "training_features_filtered=None # filtered training data for all classes\n",
    "frequency_threshold=0.1 # threshold of cluter frequency\n",
    "for class_value in lc_classes: # filtering training data for each class\n",
    "    #i=1 # test for first class\n",
    "    print('Processing class ',class_value)\n",
    "    rand_features_single_class=rand_samples_features[rand_samples_features[class_attr]==class_value].reset_index(drop=True)\n",
    "    np_rand_features=rand_features_single_class.to_numpy()[:,1:]\n",
    "    if optimal_clusters[class_value] is None:\n",
    "        n_cluster_optimal,kmeans_model_optimal,labels_optimal=find_clusters_KMeans(np_rand_features,min_cluster=5,max_cluster=20)\n",
    "    else:\n",
    "        n_cluster_optimal,kmeans_model_optimal,labels_optimal=find_clusters_KMeans(np_rand_features,min_cluster=optimal_clusters[class_value],max_cluster=optimal_clusters[class_value])\n",
    "\n",
    "        # subset original training points for this class\n",
    "    td_single_class=training_features[training_features[class_attr]==class_value].reset_index(drop=True)\n",
    "    print('Number of training pints for the class: ',len(td_single_class))\n",
    "    np_td_single_class=td_single_class.to_numpy()[:,-9:-3]\n",
    "    # predict clustering labels\n",
    "    labels_kmeans = kmeans_model_optimal.predict(np_td_single_class)\n",
    "    # append clustering results to pixel coordinates\n",
    "    td_single_class['cluster']=labels_kmeans\n",
    "\n",
    "    cluster_frequency=td_single_class['cluster'].map(td_single_class['cluster'].value_counts(normalize=True)) # calculate cluster frequencies for the training samples\n",
    "    td_single_class['cluster_frequency']=cluster_frequency # append as a column\n",
    "    td_single_class_filtered=td_single_class[td_single_class['cluster_frequency']>=frequency_threshold] # filter by cluster frequency\n",
    "    print('Number of training data after filtering: ',len(td_single_class_filtered))\n",
    "    \n",
    "    # append the filtered training points of this class to final filtered training data\n",
    "    if training_features_filtered is None:\n",
    "        training_features_filtered=td_single_class_filtered\n",
    "    else:\n",
    "        training_features_filtered=pd.concat([training_features_filtered, td_single_class_filtered])"
   ]
  },
  {
   "cell_type": "markdown",
   "id": "7ffedd3d-6817-4c3a-aca6-d5b5d98f85ad",
   "metadata": {},
   "source": [
    "## Export filtered training features\n",
    "Once we've filtered the training signatures, we can write the filtered data to disk, which will allow us to import the data in the next step(s) of the workflow. Here we export as text file:"
   ]
  },
  {
   "cell_type": "code",
   "execution_count": null,
   "id": "9ed675c5-4dc6-4f71-850f-55e0c685334f",
   "metadata": {},
   "outputs": [],
   "source": [
    "output_file = \"Results/Training_features_filtered.txt\"\n",
    "training_features_filtered.iloc[:,:-5].to_csv(output_file, header=True, index=None, sep=' ')"
   ]
  },
  {
   "cell_type": "code",
   "execution_count": null,
   "id": "65373a8e-5a7f-45d2-a4d1-f3a7838d779a",
   "metadata": {},
   "outputs": [],
   "source": []
  }
 ],
 "metadata": {
  "kernelspec": {
   "display_name": "Python 3 (ipykernel)",
   "language": "python",
   "name": "python3"
  },
  "language_info": {
   "codemirror_mode": {
    "name": "ipython",
    "version": 3
   },
   "file_extension": ".py",
   "mimetype": "text/x-python",
   "name": "python",
   "nbconvert_exporter": "python",
   "pygments_lexer": "ipython3",
   "version": "3.8.10"
  },
  "vscode": {
   "interpreter": {
    "hash": "01a9736267bf300689e8e016092cd01f0c67384dd94651ae6e139a291bc8cc97"
   }
  }
 },
 "nbformat": 4,
 "nbformat_minor": 5
}
