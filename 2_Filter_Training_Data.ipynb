{
 "cells": [
  {
   "cell_type": "markdown",
   "id": "c4555d86-4eb4-4185-93d8-52f55da43df9",
   "metadata": {},
   "source": [
    "# Filter Training Data\n"
   ]
  },
  {
   "cell_type": "markdown",
   "id": "9f767b5b-dd6e-48f8-aba4-259d72d8804a",
   "metadata": {
    "tags": []
   },
   "source": [
    "## Background\n",
    "\n",
    "It is not uncommon for existing training data to be collected over a different time period than that of the study period. Meaning that a dataset may not reflect the real ground cover due to temporal changes. \n",
    "\n",
    "The Food and Agriculture Organization (FAO) adopted a training data filtering method for any given reference year that is within a time span (e.g. 5 years) from an existing baseline, and tested the method in the production of land cover mapping for Lesotho. It is assumed that the majority of reference labels will remain valid from one year to the previous/next. Based on this assumption, the reference labels which have changed are the minority, and should be detectable through the use of outlier detection methods like K-Means clustering. More details on the method and how it works for Lesotho can be found in the published paper ([De Simone et al 2022](https://www.mdpi.com/2072-4292/14/14/3294))."
   ]
  },
  {
   "cell_type": "markdown",
   "id": "b48ec80f-8f94-45f9-808c-712a572f8d89",
   "metadata": {},
   "source": [
    "## Description\n",
    "\n",
    "This notebook will implement FAO's automatic filtering of a training dataset for a target year using points from a geojson or shapefile and a reference classification map of a previous year. The steps include:\n",
    "1. Load extracted training features\n",
    "2. Generate stratified random samples for each class on the reference land cover map using `random_sampling` and extract their features using `collect_training_data`\n",
    "3. Train K-Means models using the extracted features of the random samples\n",
    "4. Apply clustering on training features and remove minor clusters\n",
    "5. Export the filtered training features to disk for use in subsequent scripts\n",
    "\n",
    "To run this analysis, run all the cells in the notebook, starting with the \"Load packages\" cell."
   ]
  },
  {
   "cell_type": "markdown",
   "id": "cdba3177-6db9-4440-9c8b-d5437f41e7f4",
   "metadata": {},
   "source": [
    "### Load packages\n"
   ]
  },
  {
   "cell_type": "code",
   "execution_count": 1,
   "id": "7fccc7e0-768c-4479-a777-6ce9efbf4d86",
   "metadata": {},
   "outputs": [
    {
     "name": "stderr",
     "output_type": "stream",
     "text": [
      "/usr/local/lib/python3.8/dist-packages/geopandas/_compat.py:112: UserWarning: The Shapely GEOS version (3.8.0-CAPI-1.13.1 ) is incompatible with the GEOS version PyGEOS was compiled with (3.10.3-CAPI-1.16.1). Conversions between both will be slow.\n",
      "  warnings.warn(\n",
      "/usr/local/lib/python3.8/dist-packages/dask/dataframe/utils.py:367: FutureWarning: pandas.Int64Index is deprecated and will be removed from pandas in a future version. Use pandas.Index with the appropriate dtype instead.\n",
      "  _numeric_index_types = (pd.Int64Index, pd.Float64Index, pd.UInt64Index)\n",
      "/usr/local/lib/python3.8/dist-packages/dask/dataframe/utils.py:367: FutureWarning: pandas.Float64Index is deprecated and will be removed from pandas in a future version. Use pandas.Index with the appropriate dtype instead.\n",
      "  _numeric_index_types = (pd.Int64Index, pd.Float64Index, pd.UInt64Index)\n",
      "/usr/local/lib/python3.8/dist-packages/dask/dataframe/utils.py:367: FutureWarning: pandas.UInt64Index is deprecated and will be removed from pandas in a future version. Use pandas.Index with the appropriate dtype instead.\n",
      "  _numeric_index_types = (pd.Int64Index, pd.Float64Index, pd.UInt64Index)\n"
     ]
    }
   ],
   "source": [
    "%matplotlib inline\n",
    "import warnings\n",
    "import datacube\n",
    "import numpy as np\n",
    "import geopandas as gpd\n",
    "import pandas as pd\n",
    "import xarray as xr\n",
    "from sklearn.cluster import KMeans\n",
    "from sklearn.preprocessing import StandardScaler\n",
    "from sklearn import metrics\n",
    "from random_sampling import random_sampling # adapted from function by Chad Burton: https://gist.github.com/cbur24/04760d645aa123a3b1817b07786e7d9f\n",
    "from deafrica_tools.bandindices import calculate_indices\n",
    "from deafrica_tools.classification import collect_training_data\n",
    "from deafrica_tools.datahandling import load_ard\n",
    "from odc.io.cgroups import get_cpu_quota\n",
    "from odc.algo import xr_geomedian\n",
    "import matplotlib.pyplot as plt"
   ]
  },
  {
   "cell_type": "markdown",
   "id": "6efee6d6-c909-427c-bcb7-2943ae33b6bc",
   "metadata": {},
   "source": [
    "## Analysis parameters\n",
    "* `training_features_path`: The path to the file containing training features we extracted through the previous module `0_Extract_Training_Features.ipynb`.\n",
    "* `reference_map_path`: The path to the reference classification map, which will be used as a stratification layer to extract random samples for each class. In this example, we use the clipped and class-merged classification map produced from the notebook `0_Generate_Training_Points.ipynb`.**Note that the reference map pixel values should contain the class values existing in the training data.**\n",
    "* `class_attr`: This is the name of column in your shapefile/geojson file attribute table that contains the class labels. **The class labels must be integers**\n",
    "* `output_crs`: Output spatial reference system."
   ]
  },
  {
   "cell_type": "code",
   "execution_count": 2,
   "id": "62286a65-b4ae-4939-9c35-8b1675899e38",
   "metadata": {},
   "outputs": [],
   "source": [
    "training_features_path = 'Results/Training_features_Kicukiro.txt'\n",
    "reference_map_path='Results/rwanda_landcover_2015_scheme_ii_clipped.tif'\n",
    "class_attr = 'LC_Class_I' # class label in integer format\n",
    "output_crs='epsg:32735' # WGS84/UTM Zone 35S"
   ]
  },
  {
   "cell_type": "markdown",
   "id": "c277e7e2-e195-43b0-9266-77a62813db76",
   "metadata": {},
   "source": [
    "## Load input data\n",
    "\n",
    "We now load the training features .txt file using `geopandas`. The pandas dataframe should contain columns `class_attr` identifying class labels and the bi-monthly geomedians of the nine spectral bands and NDVI that we extracted through previous module. It also contains the coordinates and geometry columns."
   ]
  },
  {
   "cell_type": "code",
   "execution_count": 3,
   "id": "8ecf90a7-4fdf-40a9-90fc-edce613c6f2e",
   "metadata": {},
   "outputs": [
    {
     "data": {
      "text/html": [
       "<div>\n",
       "<style scoped>\n",
       "    .dataframe tbody tr th:only-of-type {\n",
       "        vertical-align: middle;\n",
       "    }\n",
       "\n",
       "    .dataframe tbody tr th {\n",
       "        vertical-align: top;\n",
       "    }\n",
       "\n",
       "    .dataframe thead th {\n",
       "        text-align: right;\n",
       "    }\n",
       "</style>\n",
       "<table border=\"1\" class=\"dataframe\">\n",
       "  <thead>\n",
       "    <tr style=\"text-align: right;\">\n",
       "      <th></th>\n",
       "      <th>LC_Class_I</th>\n",
       "      <th>blue_0</th>\n",
       "      <th>blue_1</th>\n",
       "      <th>blue_2</th>\n",
       "      <th>blue_3</th>\n",
       "      <th>blue_4</th>\n",
       "      <th>blue_5</th>\n",
       "      <th>green_0</th>\n",
       "      <th>green_1</th>\n",
       "      <th>green_2</th>\n",
       "      <th>...</th>\n",
       "      <th>swir_2_2</th>\n",
       "      <th>swir_2_3</th>\n",
       "      <th>swir_2_4</th>\n",
       "      <th>swir_2_5</th>\n",
       "      <th>NDVI_0</th>\n",
       "      <th>NDVI_1</th>\n",
       "      <th>NDVI_2</th>\n",
       "      <th>NDVI_3</th>\n",
       "      <th>NDVI_4</th>\n",
       "      <th>NDVI_5</th>\n",
       "    </tr>\n",
       "  </thead>\n",
       "  <tbody>\n",
       "    <tr>\n",
       "      <th>0</th>\n",
       "      <td>10.0</td>\n",
       "      <td>1017.080444</td>\n",
       "      <td>966.000122</td>\n",
       "      <td>850.446106</td>\n",
       "      <td>494.834381</td>\n",
       "      <td>690.022949</td>\n",
       "      <td>338.000000</td>\n",
       "      <td>1068.805298</td>\n",
       "      <td>1150.000000</td>\n",
       "      <td>985.529724</td>\n",
       "      <td>...</td>\n",
       "      <td>1333.680298</td>\n",
       "      <td>1362.772949</td>\n",
       "      <td>1729.421997</td>\n",
       "      <td>1286.000000</td>\n",
       "      <td>0.480094</td>\n",
       "      <td>0.444562</td>\n",
       "      <td>0.501658</td>\n",
       "      <td>0.440377</td>\n",
       "      <td>0.379643</td>\n",
       "      <td>0.612270</td>\n",
       "    </tr>\n",
       "    <tr>\n",
       "      <th>1</th>\n",
       "      <td>10.0</td>\n",
       "      <td>754.642151</td>\n",
       "      <td>522.500000</td>\n",
       "      <td>304.190826</td>\n",
       "      <td>456.111115</td>\n",
       "      <td>713.975525</td>\n",
       "      <td>316.253235</td>\n",
       "      <td>969.080383</td>\n",
       "      <td>654.000000</td>\n",
       "      <td>544.479370</td>\n",
       "      <td>...</td>\n",
       "      <td>822.483643</td>\n",
       "      <td>987.639526</td>\n",
       "      <td>1664.428955</td>\n",
       "      <td>1004.478149</td>\n",
       "      <td>0.681496</td>\n",
       "      <td>0.698108</td>\n",
       "      <td>0.798872</td>\n",
       "      <td>0.683547</td>\n",
       "      <td>0.481418</td>\n",
       "      <td>0.730796</td>\n",
       "    </tr>\n",
       "    <tr>\n",
       "      <th>2</th>\n",
       "      <td>10.0</td>\n",
       "      <td>486.022400</td>\n",
       "      <td>5124.000000</td>\n",
       "      <td>345.446167</td>\n",
       "      <td>448.232574</td>\n",
       "      <td>668.988892</td>\n",
       "      <td>1087.198486</td>\n",
       "      <td>688.981689</td>\n",
       "      <td>5101.000000</td>\n",
       "      <td>568.828186</td>\n",
       "      <td>...</td>\n",
       "      <td>1055.658081</td>\n",
       "      <td>1256.485474</td>\n",
       "      <td>1696.851074</td>\n",
       "      <td>1617.039917</td>\n",
       "      <td>0.751156</td>\n",
       "      <td>0.175494</td>\n",
       "      <td>0.800372</td>\n",
       "      <td>0.682261</td>\n",
       "      <td>0.502925</td>\n",
       "      <td>0.604687</td>\n",
       "    </tr>\n",
       "    <tr>\n",
       "      <th>3</th>\n",
       "      <td>10.0</td>\n",
       "      <td>859.392029</td>\n",
       "      <td>1217.110718</td>\n",
       "      <td>709.319275</td>\n",
       "      <td>711.812683</td>\n",
       "      <td>848.868042</td>\n",
       "      <td>597.937622</td>\n",
       "      <td>1036.897461</td>\n",
       "      <td>1335.284912</td>\n",
       "      <td>1023.633240</td>\n",
       "      <td>...</td>\n",
       "      <td>1942.578979</td>\n",
       "      <td>2310.563232</td>\n",
       "      <td>2495.988281</td>\n",
       "      <td>2012.882324</td>\n",
       "      <td>0.424487</td>\n",
       "      <td>0.390258</td>\n",
       "      <td>0.441967</td>\n",
       "      <td>0.301718</td>\n",
       "      <td>0.285107</td>\n",
       "      <td>0.395637</td>\n",
       "    </tr>\n",
       "    <tr>\n",
       "      <th>4</th>\n",
       "      <td>10.0</td>\n",
       "      <td>777.672852</td>\n",
       "      <td>700.000000</td>\n",
       "      <td>692.216248</td>\n",
       "      <td>520.155273</td>\n",
       "      <td>597.163208</td>\n",
       "      <td>520.999817</td>\n",
       "      <td>951.130066</td>\n",
       "      <td>893.000000</td>\n",
       "      <td>855.954285</td>\n",
       "      <td>...</td>\n",
       "      <td>1168.188843</td>\n",
       "      <td>1442.380737</td>\n",
       "      <td>1772.072998</td>\n",
       "      <td>1813.000122</td>\n",
       "      <td>0.409946</td>\n",
       "      <td>0.445950</td>\n",
       "      <td>0.571246</td>\n",
       "      <td>0.448628</td>\n",
       "      <td>0.290127</td>\n",
       "      <td>0.447805</td>\n",
       "    </tr>\n",
       "  </tbody>\n",
       "</table>\n",
       "<p>5 rows × 67 columns</p>\n",
       "</div>"
      ],
      "text/plain": [
       "   LC_Class_I       blue_0       blue_1      blue_2      blue_3      blue_4  \\\n",
       "0        10.0  1017.080444   966.000122  850.446106  494.834381  690.022949   \n",
       "1        10.0   754.642151   522.500000  304.190826  456.111115  713.975525   \n",
       "2        10.0   486.022400  5124.000000  345.446167  448.232574  668.988892   \n",
       "3        10.0   859.392029  1217.110718  709.319275  711.812683  848.868042   \n",
       "4        10.0   777.672852   700.000000  692.216248  520.155273  597.163208   \n",
       "\n",
       "        blue_5      green_0      green_1      green_2  ...     swir_2_2  \\\n",
       "0   338.000000  1068.805298  1150.000000   985.529724  ...  1333.680298   \n",
       "1   316.253235   969.080383   654.000000   544.479370  ...   822.483643   \n",
       "2  1087.198486   688.981689  5101.000000   568.828186  ...  1055.658081   \n",
       "3   597.937622  1036.897461  1335.284912  1023.633240  ...  1942.578979   \n",
       "4   520.999817   951.130066   893.000000   855.954285  ...  1168.188843   \n",
       "\n",
       "      swir_2_3     swir_2_4     swir_2_5    NDVI_0    NDVI_1    NDVI_2  \\\n",
       "0  1362.772949  1729.421997  1286.000000  0.480094  0.444562  0.501658   \n",
       "1   987.639526  1664.428955  1004.478149  0.681496  0.698108  0.798872   \n",
       "2  1256.485474  1696.851074  1617.039917  0.751156  0.175494  0.800372   \n",
       "3  2310.563232  2495.988281  2012.882324  0.424487  0.390258  0.441967   \n",
       "4  1442.380737  1772.072998  1813.000122  0.409946  0.445950  0.571246   \n",
       "\n",
       "     NDVI_3    NDVI_4    NDVI_5  \n",
       "0  0.440377  0.379643  0.612270  \n",
       "1  0.683547  0.481418  0.730796  \n",
       "2  0.682261  0.502925  0.604687  \n",
       "3  0.301718  0.285107  0.395637  \n",
       "4  0.448628  0.290127  0.447805  \n",
       "\n",
       "[5 rows x 67 columns]"
      ]
     },
     "execution_count": 3,
     "metadata": {},
     "output_type": "execute_result"
    }
   ],
   "source": [
    "training_features= pd.read_csv(training_features_path,sep=\" \")\n",
    "training_features.head() # Plot first five rows"
   ]
  },
  {
   "cell_type": "markdown",
   "id": "1983c2a7",
   "metadata": {},
   "source": [
    "Using the `class_attr` column we can get the class values, which we will use later to process by class. For this extracted training points, the class names corresponding to the class values are: `1: Forest, 5: Grassland, 7: Shrubland, 9: Perennial Cropland, 10: Annual Cropland, 11: Wetland, 12: Water Body, 13: Urban Settlement, 14: Bare Land`."
   ]
  },
  {
   "cell_type": "code",
   "execution_count": 4,
   "id": "5266d539",
   "metadata": {},
   "outputs": [
    {
     "name": "stdout",
     "output_type": "stream",
     "text": [
      "land cover classes:\n",
      " [10. 13. 11.  7.  9. 12.  1.  5. 14.]\n"
     ]
    }
   ],
   "source": [
    "lc_classes=training_features[class_attr].unique()\n",
    "print('land cover classes:\\n',lc_classes)"
   ]
  },
  {
   "cell_type": "markdown",
   "id": "3c42d4cf-ba19-45a8-b095-f42a070e4d92",
   "metadata": {},
   "source": [
    "The training data filtering method also requires a reference land cover map as a stratification layer to generate random training samples, which will be used to train the K-Means models, so we now load the class-merged clipped reference classification map that we previously produced:"
   ]
  },
  {
   "cell_type": "code",
   "execution_count": 5,
   "id": "0486c4df-5048-49ba-a572-90bd8d69d8ea",
   "metadata": {},
   "outputs": [
    {
     "name": "stdout",
     "output_type": "stream",
     "text": [
      "Reference land cover classifcation raster:\n",
      " <xarray.DataArray (y: 469, x: 696)>\n",
      "array([[0, 0, 0, ..., 0, 0, 0],\n",
      "       [0, 0, 0, ..., 0, 0, 0],\n",
      "       [0, 0, 0, ..., 0, 0, 0],\n",
      "       ...,\n",
      "       [0, 0, 0, ..., 0, 0, 0],\n",
      "       [0, 0, 0, ..., 0, 0, 0],\n",
      "       [0, 0, 0, ..., 0, 0, 0]], dtype=uint8)\n",
      "Coordinates:\n",
      "    band         int64 1\n",
      "  * x            (x) float64 30.05 30.05 30.05 30.05 ... 30.24 30.24 30.24 30.24\n",
      "  * y            (y) float64 -1.953 -1.953 -1.953 -1.954 ... -2.079 -2.079 -2.08\n",
      "    spatial_ref  int64 ...\n",
      "    variable     <U9 'band_data'\n"
     ]
    }
   ],
   "source": [
    "# load reference classification map\n",
    "reference_map = xr.open_dataset(reference_map_path,engine=\"rasterio\").astype(np.uint8)\n",
    "reference_map=reference_map.to_array().squeeze()\n",
    "print('Reference land cover classifcation raster:\\n',reference_map)"
   ]
  },
  {
   "cell_type": "markdown",
   "id": "67922b67",
   "metadata": {},
   "source": [
    "## Generate random samples\n",
    "As part of the filtering method, we need some samples for each class to train a K-Means model, which will then be applied to cluster the training features. Here we generate some randomly distributed samples for each class using the reference classification map as stratification layer, in the same way we demonstrated to generate training samples in the notebook `0_Generate_Training_Points.ipynb`. Here we increase the total number of samples (around 1000) and minimum number of samples for the `random_sampling` function so that we get more samples to train the K-Means models. You can choose to export the generated random samples if you would like to check it:"
   ]
  },
  {
   "cell_type": "code",
   "execution_count": 6,
   "id": "430048b5-9d4c-4202-95e2-bd632759a77d",
   "metadata": {},
   "outputs": [
    {
     "name": "stdout",
     "output_type": "stream",
     "text": [
      "Class 10: sampling at 489 coordinates\n",
      "Class 13: sampling at 251 coordinates\n",
      "Class 11: sampling at 146 coordinates\n",
      "Class 7: sampling at 92 coordinates\n",
      "Class 9: sampling at 50 coordinates\n",
      "Class 12: sampling at 50 coordinates\n",
      "Class 1: sampling at 50 coordinates\n",
      "Class 5: sampling at 50 coordinates\n",
      "Class 14: sampling at 50 coordinates\n"
     ]
    }
   ],
   "source": [
    "class_attr='LC_Class_I'\n",
    "out_fname='Results/Random_samples_Kicukiro.geojson'\n",
    "gpd_random_samples=random_sampling(da=reference_map,n=1000,sampling='stratified_random',\n",
    "                                   min_sample_n=50,out_fname=out_fname,class_attr=class_attr,drop_value=0)\n",
    "gpd_random_samples[class_attr]=gpd_random_samples[class_attr].astype(int)\n",
    "gpd_random_samples=gpd_random_samples.set_crs(reference_map.rio.crs)"
   ]
  },
  {
   "cell_type": "markdown",
   "id": "0a07c8c5",
   "metadata": {},
   "source": [
    "## Extract features for the random samples\n",
    "With the random sample points available, we now need to extract `features` of the samples to train the K-Means models. Here we only use the NDVI composites to train the models. Through the previous notebook `1_Extract_Training_Features.ipynb` we demonstrated how to define query and extract features for a given set of points, so here we just reuse the functions and implement the same steps, but only keep NDVI bands:"
   ]
  },
  {
   "cell_type": "code",
   "execution_count": null,
   "id": "d79eaaed-8e92-42ab-9b70-cbeaf331dab0",
   "metadata": {},
   "outputs": [],
   "source": [
    "time = ('2021')\n",
    "measurements = ['red','nir_1']\n",
    "resolution = (-10,10)\n",
    "\n",
    "# detect the number of CPUs\n",
    "ncpus=round(get_cpu_quota())\n",
    "print('ncpus = '+str(ncpus))\n",
    "\n",
    "query = {\n",
    "    'time': time,\n",
    "    'measurements': measurements,\n",
    "    'output_crs': output_crs,\n",
    "    'resolution': resolution\n",
    "}\n",
    "\n",
    "# define a function to feature layers\n",
    "def feature_layers(query): \n",
    "    # connect to the datacube so we can access DE Africa data\n",
    "    dc = datacube.Datacube(app='feature_layers')\n",
    "    \n",
    "    # load Sentinel-2 analysis ready data\n",
    "    ds = load_ard(dc=dc,\n",
    "                  products=['s2_l2a'],\n",
    "                  group_by='solar_day',\n",
    "                  verbose=False,\n",
    "                  **query)\n",
    "    # calculate NDVI\n",
    "    ds = calculate_indices(ds,\n",
    "                           index=['NDVI'],\n",
    "                           drop=True,\n",
    "                           satellite_mission='s2')\n",
    "    # calculate bi-monthly geomedian\n",
    "    ds=ds.resample(time='2MS').map(xr_geomedian)\n",
    "    # stack multi-temporal measurements and rename them\n",
    "    n_time=ds.dims['time']\n",
    "    list_measurements=list(ds.keys())\n",
    "    list_stack_measures=[]\n",
    "    for j in range(len(list_measurements)):\n",
    "        for k in range(n_time):\n",
    "            variable_name=list_measurements[j]+'_'+str(k)\n",
    "            measure_single=ds[list_measurements[j]].isel(time=k).rename(variable_name)\n",
    "            list_stack_measures.append(measure_single)\n",
    "    ds_stacked=xr.merge(list_stack_measures,compat='override')\n",
    "    return ds_stacked\n",
    "\n",
    "# collect training data\n",
    "column_names, model_input = collect_training_data(\n",
    "    gdf=gpd_random_samples,\n",
    "    dc_query=query,\n",
    "    ncpus=30,\n",
    "    field=class_attr,\n",
    "    zonal_stats=None,\n",
    "    feature_func=feature_layers,\n",
    "    return_coords=False)"
   ]
  },
  {
   "cell_type": "markdown",
   "id": "ff93244f-60a5-4ddb-8e50-f5f1d551330a",
   "metadata": {},
   "source": [
    "Optionally you can export the extracted features for the random samples:"
   ]
  },
  {
   "cell_type": "code",
   "execution_count": 8,
   "id": "fe6d34b4-f54f-4641-8b1d-5574ca56c057",
   "metadata": {},
   "outputs": [],
   "source": [
    "# convert the data to geopandas dataframe\n",
    "rand_samples_features=pd.DataFrame(data=model_input,columns=column_names)\n",
    "#set the name and location of the output file\n",
    "output_file = 'Results/Random_samples_features_Kicukiro.txt'\n",
    "#Export files to disk\n",
    "rand_samples_features.to_csv(output_file, header=True, index=None, sep=' ')"
   ]
  },
  {
   "cell_type": "markdown",
   "id": "50021c25-ec7c-477f-8833-31bf6a44927a",
   "metadata": {
    "tags": []
   },
   "source": [
    "## K-Means clustering\n",
    "Now that we have the features of random samples and training points, we can use them to train and apply the K-Means models for each class. The K-Means model requires a pre-defined number of clusters, which is unknown for many cases. One way to identify the optimal number of clusters is using the Calinski-Harabasz Index. The index is the ratio of the sum of between-clusters dispersion and of within-cluster dispersion for all clusters, where the index is higher when clusters are dense and well separated. More information about can be checked [here](https://scikit-learn.org/stable/modules/clustering.html#calinski-harabasz-index). In this example we calculate the indices calculated from clustering with a varied number of clusters (e.g. 5 to 20) and retain the clustering with the highest index.  \n",
    "> Note: You can also use other indices to assess the clustering and choose optimal number of clusterings, see information on other indices [here](https://scikit-learn.org/stable/modules/clustering.html#clustering-performance-evaluation). Depending on the distribution of you features, different indices may lead to different optimal cluster numbers. Your number of clusters range will also likely result in different optimal clustering.\n",
    "\n",
    "Here we put the procedures in identifying the optimal clustering into a function where the inputs are the input features as numpy array, minimum and maximum numbers of clusters, and the outputs are the optimal number of clusters, trained K-Means model and corresponding clustering labels:"
   ]
  },
  {
   "cell_type": "code",
   "execution_count": 34,
   "id": "18f05f52",
   "metadata": {},
   "outputs": [],
   "source": [
    "def find_clusters_KMeans(data,min_cluster=5,max_cluster=20):\n",
    "    highest_score=-999\n",
    "    n_cluster_optimal=min_cluster\n",
    "    kmeans_model_optimal=None # initialise optimal model parameters\n",
    "    labels_optimal=None\n",
    "    for n_cluster in range(min_cluster,max_cluster+1):\n",
    "        kmeans_model = KMeans(n_clusters=n_cluster, random_state=1).fit(data)\n",
    "        labels=kmeans_model.predict(data)\n",
    "        score=metrics.calinski_harabasz_score(data, labels)\n",
    "        print('Calinski-Harabasz score for ',n_cluster,' clusters is: ',score)\n",
    "        if (highest_score==-999)or(highest_score<score):\n",
    "            highest_score=score\n",
    "            n_cluster_optimal=n_cluster\n",
    "            kmeans_model_optimal=kmeans_model\n",
    "            labels_optimal=labels\n",
    "    if max_cluster>min_cluster:\n",
    "        print('Best number of clusters: %s'%(n_cluster_optimal))\n",
    "    return n_cluster_optimal,kmeans_model_optimal,labels_optimal"
   ]
  },
  {
   "cell_type": "markdown",
   "id": "7513a9ab-5297-47b6-80e7-a6b3621cf71f",
   "metadata": {},
   "source": [
    "## Training data clustering - example for one class"
   ]
  },
  {
   "cell_type": "markdown",
   "id": "0835f9cf",
   "metadata": {},
   "source": [
    "Using the above function, we now cluster the training features for the class Urban Settlement (13) as an example. We retain the NDVI features of random samples for the class, then apply the `find_clusters_KMeans` function to the random sample features to find optimal clustering. Here as an example we set the minimum and maximum numbers of clusters as 5 and 20, and you may want change the numbers based on your understanding on the class:"
   ]
  },
  {
   "cell_type": "code",
   "execution_count": 41,
   "id": "e8102770",
   "metadata": {},
   "outputs": [
    {
     "name": "stdout",
     "output_type": "stream",
     "text": [
      "Calinski-Harabasz score for  5  clusters is:  278.3310255485889\n",
      "Calinski-Harabasz score for  6  clusters is:  246.6693068298488\n",
      "Calinski-Harabasz score for  7  clusters is:  229.65857486237962\n",
      "Calinski-Harabasz score for  8  clusters is:  214.64620234185455\n",
      "Calinski-Harabasz score for  9  clusters is:  198.87171523013927\n",
      "Calinski-Harabasz score for  10  clusters is:  194.96772727923502\n",
      "Calinski-Harabasz score for  11  clusters is:  184.31245886014204\n",
      "Calinski-Harabasz score for  12  clusters is:  176.91498224751973\n",
      "Calinski-Harabasz score for  13  clusters is:  168.79396878666893\n",
      "Calinski-Harabasz score for  14  clusters is:  160.18927993464158\n",
      "Calinski-Harabasz score for  15  clusters is:  155.81178313294774\n",
      "Calinski-Harabasz score for  16  clusters is:  153.5808388812397\n",
      "Calinski-Harabasz score for  17  clusters is:  147.46701072704917\n",
      "Calinski-Harabasz score for  18  clusters is:  144.33689212689302\n",
      "Calinski-Harabasz score for  19  clusters is:  139.25199304735983\n",
      "Calinski-Harabasz score for  20  clusters is:  136.10685735918332\n",
      "Best number of clusters: 5\n"
     ]
    }
   ],
   "source": [
    "# get class label\n",
    "class_value=13\n",
    "# subset random sample features for this class\n",
    "rand_features_single_class=rand_samples_features[rand_samples_features[class_attr]==class_value].reset_index(drop=True)\n",
    "np_rand_features=rand_features_single_class.to_numpy()[:,1:]\n",
    "# find optimal clustering\n",
    "n_cluster_optimal,kmeans_model_optimal,labels_optimal=find_clusters_KMeans(np_rand_features,min_cluster=5,max_cluster=20)"
   ]
  },
  {
   "cell_type": "markdown",
   "id": "3c7a3ea5-6630-4ed0-a5c2-1aeb33854767",
   "metadata": {},
   "source": [
    "**Note**: If you are not happy with the number of cluster derived from the Calinski-Harabasz score, simply set both the `min_cluster` and `max_cluster` the same number you want and run the function, For example if you want 10 clusters then use the function as:"
   ]
  },
  {
   "cell_type": "code",
   "execution_count": 43,
   "id": "64621d52-108c-4e18-b907-04e54409f7e3",
   "metadata": {},
   "outputs": [
    {
     "name": "stdout",
     "output_type": "stream",
     "text": [
      "Calinski-Harabasz score for  10  clusters is:  194.96772727923502\n"
     ]
    }
   ],
   "source": [
    "n_cluster_optimal,kmeans_model_optimal,labels_optimal=find_clusters_KMeans(np_rand_features,min_cluster=10,max_cluster=10)"
   ]
  },
  {
   "cell_type": "markdown",
   "id": "e133aa86",
   "metadata": {},
   "source": [
    "After identifying the optimal clustering, we can apply the optimal K-Means model to NDVIs of our training points. Here we assign the clustering labels to a new column `cluster`:"
   ]
  },
  {
   "cell_type": "code",
   "execution_count": 44,
   "id": "fe8e1ac0",
   "metadata": {},
   "outputs": [
    {
     "name": "stdout",
     "output_type": "stream",
     "text": [
      "Number of training pints for the class:  126\n"
     ]
    }
   ],
   "source": [
    "# subset original training points for this class\n",
    "td_single_class=training_features[training_features[class_attr]==class_value].reset_index(drop=True)\n",
    "print('Number of training pints for the class: ',len(td_single_class))\n",
    "np_td_single_class=td_single_class.to_numpy()[:,-6:]\n",
    "# predict clustering labels\n",
    "labels_kmeans = kmeans_model_optimal.predict(np_td_single_class)\n",
    "# append clustering results to pixel coordinates\n",
    "td_single_class['cluster']=labels_kmeans"
   ]
  },
  {
   "cell_type": "markdown",
   "id": "3d8ac4cf-c9a2-4411-88ee-8a4d032f2159",
   "metadata": {},
   "source": [
    "To visualise the distribution of a two-month composite of NDVI values for all clusters (e.g. March-April NDVI composites):"
   ]
  },
  {
   "cell_type": "code",
   "execution_count": 45,
   "id": "b6855de8-8c57-4ed6-a422-8e343f5475b0",
   "metadata": {},
   "outputs": [
    {
     "data": {
      "image/png": "[encoded data removed]",
      "text/plain": [
       "<Figure size 640x480 with 1 Axes>"
      ]
     },
     "metadata": {},
     "output_type": "display_data"
    }
   ],
   "source": [
    "bins = np.linspace(-0.5, 1, 100)\n",
    "for cluster in range(n_cluster_optimal):\n",
    "    td_cluster=td_single_class[td_single_class['cluster']==cluster]\n",
    "    td_cluster=td_cluster['NDVI_2'].to_numpy()\n",
    "    plt.hist(td_cluster,bins, alpha=0.5, label='cluster'+str(cluster),rwidth=0.8);\n",
    "    plt.legend()\n",
    "    plt.xlabel('NDVI')\n",
    "    plt.ylabel('Count')"
   ]
  },
  {
   "cell_type": "markdown",
   "id": "cb12b5a7-3e88-48bf-b2d3-f4b56d7a2f45",
   "metadata": {},
   "source": [
    "We now filter the training features/points based on the cluster size. Here we assume cluster size lower than 10% of the overall sample szie are likely to be misclassified or changed samples.    \n",
    ">Note: Depending on your own training data the K-Means method may not work well, so it is recommanded that you have more understanding on your training points and test on how it works, e.g. check if it successfully filtered out the points you believe were misclassified while keeping good training samples. You should also try to adjust the cluster size threshold if it doesn't effectively remove false samples.\n",
    "\n",
    "There are also other options for removal of outliers which can be tested on, e.g. check [here](https://scikit-learn.org/stable/modules/outlier_detection.html) for using scikit-learn for outlier detection."
   ]
  },
  {
   "cell_type": "code",
   "execution_count": 46,
   "id": "9cc49dd0-2396-484b-808d-657af599a5ef",
   "metadata": {},
   "outputs": [
    {
     "name": "stdout",
     "output_type": "stream",
     "text": [
      "Number of training data after filtering:  94\n"
     ]
    }
   ],
   "source": [
    "frequency_threshold=0.1 # threshold of cluter frequency\n",
    "cluster_frequency=td_single_class['cluster'].map(td_single_class['cluster'].value_counts(normalize=True)) # calculate cluster frequencies for the training samples\n",
    "td_single_class['cluster_frequency']=cluster_frequency # append as a column\n",
    "td_single_class_filtered=td_single_class[td_single_class['cluster_frequency']>=frequency_threshold] # filter by cluster frequency\n",
    "print('Number of training data after filtering: ',len(td_single_class_filtered))"
   ]
  },
  {
   "cell_type": "markdown",
   "id": "f2e22329-c20c-44b6-9b3b-2f931ac36f79",
   "metadata": {},
   "source": [
    "You can compare the number of training points before and after the filtering and check whether and how many pixels were filtered out. "
   ]
  },
  {
   "cell_type": "markdown",
   "id": "8f139e22-8ba8-40e8-af8c-bc75d0654883",
   "metadata": {},
   "source": [
    "**Note**: If you opt to fine-tune the number of clusters for another class, simply change the `class_value` to another class value and re-run the steps within this `Training data clustering - example for one class` section. After you find the optimal numbers of clusters, change below dictionary `None` to the optimal number for each class:"
   ]
  },
  {
   "cell_type": "code",
   "execution_count": 48,
   "id": "a7490c84-48ab-43ea-a202-fd334a4da896",
   "metadata": {},
   "outputs": [],
   "source": [
    "optimal_clusters={1:None, 5: None, 7: None,  9: None, 10: None, 11: None,  12: None,  13: None,  14: None}"
   ]
  },
  {
   "cell_type": "markdown",
   "id": "a4d34d72",
   "metadata": {},
   "source": [
    "## Training data clustering - all classes\n",
    "To implement above clustering and filtering training features for all class, let's put the steps together and iterate through all classes. Here we append filtered features for all classes into a single dataframe `training_features_filtered`."
   ]
  },
  {
   "cell_type": "code",
   "execution_count": 49,
   "id": "4fd905a2-2137-4fb0-8c4b-3098c8c96b29",
   "metadata": {},
   "outputs": [
    {
     "name": "stdout",
     "output_type": "stream",
     "text": [
      "Processing class  10.0\n",
      "Calinski-Harabasz score for  5  clusters is:  276.30448211511487\n",
      "Calinski-Harabasz score for  6  clusters is:  241.9619570879561\n",
      "Calinski-Harabasz score for  7  clusters is:  219.66365012351486\n",
      "Calinski-Harabasz score for  8  clusters is:  201.99347103476862\n",
      "Calinski-Harabasz score for  9  clusters is:  187.0690147726517\n",
      "Calinski-Harabasz score for  10  clusters is:  174.84532236108677\n",
      "Calinski-Harabasz score for  11  clusters is:  165.59287614279228\n",
      "Calinski-Harabasz score for  12  clusters is:  157.36726797314324\n",
      "Calinski-Harabasz score for  13  clusters is:  150.79076134796833\n",
      "Calinski-Harabasz score for  14  clusters is:  143.92454702016445\n",
      "Calinski-Harabasz score for  15  clusters is:  139.30576745836444\n",
      "Calinski-Harabasz score for  16  clusters is:  135.20113167010194\n",
      "Calinski-Harabasz score for  17  clusters is:  129.25065444720386\n",
      "Calinski-Harabasz score for  18  clusters is:  124.47831350865259\n",
      "Calinski-Harabasz score for  19  clusters is:  120.32910474357142\n",
      "Calinski-Harabasz score for  20  clusters is:  118.75638799868976\n",
      "Best number of clusters: 5\n",
      "Number of training pints for the class:  245\n",
      "Number of training data after filtering:  245\n",
      "Processing class  13.0\n",
      "Calinski-Harabasz score for  5  clusters is:  278.3310255485889\n",
      "Calinski-Harabasz score for  6  clusters is:  246.6693068298488\n",
      "Calinski-Harabasz score for  7  clusters is:  229.65857486237962\n",
      "Calinski-Harabasz score for  8  clusters is:  214.64620234185455\n",
      "Calinski-Harabasz score for  9  clusters is:  198.87171523013927\n",
      "Calinski-Harabasz score for  10  clusters is:  194.96772727923502\n",
      "Calinski-Harabasz score for  11  clusters is:  184.31245886014204\n",
      "Calinski-Harabasz score for  12  clusters is:  176.91498224751973\n",
      "Calinski-Harabasz score for  13  clusters is:  168.79396878666893\n",
      "Calinski-Harabasz score for  14  clusters is:  160.18927993464158\n",
      "Calinski-Harabasz score for  15  clusters is:  155.81178313294774\n",
      "Calinski-Harabasz score for  16  clusters is:  153.5808388812397\n",
      "Calinski-Harabasz score for  17  clusters is:  147.46701072704917\n",
      "Calinski-Harabasz score for  18  clusters is:  144.33689212689302\n",
      "Calinski-Harabasz score for  19  clusters is:  139.25199304735983\n",
      "Calinski-Harabasz score for  20  clusters is:  136.10685735918332\n",
      "Best number of clusters: 5\n",
      "Number of training pints for the class:  126\n",
      "Number of training data after filtering:  126\n",
      "Processing class  11.0\n",
      "Calinski-Harabasz score for  5  clusters is:  52.74302335012713\n",
      "Calinski-Harabasz score for  6  clusters is:  47.388580022166366\n",
      "Calinski-Harabasz score for  7  clusters is:  42.84900884579891\n",
      "Calinski-Harabasz score for  8  clusters is:  41.438145276912046\n",
      "Calinski-Harabasz score for  9  clusters is:  38.96184779594936\n",
      "Calinski-Harabasz score for  10  clusters is:  37.605908093830685\n",
      "Calinski-Harabasz score for  11  clusters is:  36.43917619124269\n",
      "Calinski-Harabasz score for  12  clusters is:  36.02051366465202\n",
      "Calinski-Harabasz score for  13  clusters is:  34.692048071556556\n",
      "Calinski-Harabasz score for  14  clusters is:  33.31453713281372\n",
      "Calinski-Harabasz score for  15  clusters is:  35.15345489217292\n",
      "Calinski-Harabasz score for  16  clusters is:  34.182109354797845\n",
      "Calinski-Harabasz score for  17  clusters is:  32.84387905111512\n",
      "Calinski-Harabasz score for  18  clusters is:  33.157442501845594\n",
      "Calinski-Harabasz score for  19  clusters is:  32.6720265844677\n",
      "Calinski-Harabasz score for  20  clusters is:  31.98295090018111\n",
      "Best number of clusters: 5\n",
      "Number of training pints for the class:  73\n",
      "Number of training data after filtering:  73\n",
      "Processing class  7.0\n",
      "Calinski-Harabasz score for  5  clusters is:  55.99688879127466\n",
      "Calinski-Harabasz score for  6  clusters is:  51.428270123215086\n",
      "Calinski-Harabasz score for  7  clusters is:  48.7186575498774\n",
      "Calinski-Harabasz score for  8  clusters is:  45.41264721674636\n",
      "Calinski-Harabasz score for  9  clusters is:  41.251398691851485\n",
      "Calinski-Harabasz score for  10  clusters is:  41.90577513622804\n",
      "Calinski-Harabasz score for  11  clusters is:  40.71152554794014\n",
      "Calinski-Harabasz score for  12  clusters is:  39.70193770099515\n",
      "Calinski-Harabasz score for  13  clusters is:  40.14124432772564\n",
      "Calinski-Harabasz score for  14  clusters is:  38.476912896036104\n",
      "Calinski-Harabasz score for  15  clusters is:  39.14675686089902\n",
      "Calinski-Harabasz score for  16  clusters is:  37.8909396839081\n",
      "Calinski-Harabasz score for  17  clusters is:  39.02282829064332\n",
      "Calinski-Harabasz score for  18  clusters is:  36.997610944463794\n",
      "Calinski-Harabasz score for  19  clusters is:  36.338201591642985\n",
      "Calinski-Harabasz score for  20  clusters is:  36.783403490090116\n",
      "Best number of clusters: 5\n",
      "Number of training pints for the class:  46\n",
      "Number of training data after filtering:  42\n",
      "Processing class  9.0\n",
      "Calinski-Harabasz score for  5  clusters is:  25.716761776508815\n",
      "Calinski-Harabasz score for  6  clusters is:  22.996893106669884\n",
      "Calinski-Harabasz score for  7  clusters is:  21.283827255936668\n",
      "Calinski-Harabasz score for  8  clusters is:  20.584662552047725\n",
      "Calinski-Harabasz score for  9  clusters is:  18.483187737355177\n",
      "Calinski-Harabasz score for  10  clusters is:  17.965657844913288\n",
      "Calinski-Harabasz score for  11  clusters is:  17.789150511511366\n",
      "Calinski-Harabasz score for  12  clusters is:  17.67048645215216\n",
      "Calinski-Harabasz score for  13  clusters is:  17.36826322571985\n",
      "Calinski-Harabasz score for  14  clusters is:  17.131104500572075\n",
      "Calinski-Harabasz score for  15  clusters is:  16.835956472937163\n",
      "Calinski-Harabasz score for  16  clusters is:  16.663515575001597\n",
      "Calinski-Harabasz score for  17  clusters is:  16.56604959275107\n",
      "Calinski-Harabasz score for  18  clusters is:  16.05590700923053\n",
      "Calinski-Harabasz score for  19  clusters is:  16.80938199144785\n",
      "Calinski-Harabasz score for  20  clusters is:  16.13561598586214\n",
      "Best number of clusters: 5\n",
      "Number of training pints for the class:  20\n",
      "Number of training data after filtering:  19\n",
      "Processing class  12.0\n",
      "Calinski-Harabasz score for  5  clusters is:  99.33610359971897\n",
      "Calinski-Harabasz score for  6  clusters is:  88.96680829818952\n",
      "Calinski-Harabasz score for  7  clusters is:  83.29361068956554\n",
      "Calinski-Harabasz score for  8  clusters is:  77.46077580211549\n",
      "Calinski-Harabasz score for  9  clusters is:  74.21869113141447\n",
      "Calinski-Harabasz score for  10  clusters is:  70.9914934227254\n",
      "Calinski-Harabasz score for  11  clusters is:  70.75021659205314\n",
      "Calinski-Harabasz score for  12  clusters is:  68.00003013775431\n",
      "Calinski-Harabasz score for  13  clusters is:  70.44221388423215\n",
      "Calinski-Harabasz score for  14  clusters is:  65.75233897809788\n",
      "Calinski-Harabasz score for  15  clusters is:  70.69379611903648\n",
      "Calinski-Harabasz score for  16  clusters is:  72.27964715752\n",
      "Calinski-Harabasz score for  17  clusters is:  70.40472400222573\n",
      "Calinski-Harabasz score for  18  clusters is:  69.73327167390362\n",
      "Calinski-Harabasz score for  19  clusters is:  70.21123914483846\n",
      "Calinski-Harabasz score for  20  clusters is:  69.4970810081947\n",
      "Best number of clusters: 5\n",
      "Number of training pints for the class:  20\n",
      "Number of training data after filtering:  19\n",
      "Processing class  1.0\n",
      "Calinski-Harabasz score for  5  clusters is:  51.68830842124932\n",
      "Calinski-Harabasz score for  6  clusters is:  46.728330225992316\n",
      "Calinski-Harabasz score for  7  clusters is:  43.439559778509086\n",
      "Calinski-Harabasz score for  8  clusters is:  42.20492930948123\n",
      "Calinski-Harabasz score for  9  clusters is:  39.28157979948487\n",
      "Calinski-Harabasz score for  10  clusters is:  37.34108105131072\n",
      "Calinski-Harabasz score for  11  clusters is:  37.30185693262288\n",
      "Calinski-Harabasz score for  12  clusters is:  38.28236182464218\n",
      "Calinski-Harabasz score for  13  clusters is:  35.584846787957844\n",
      "Calinski-Harabasz score for  14  clusters is:  34.4751765435604\n",
      "Calinski-Harabasz score for  15  clusters is:  34.21001860637948\n",
      "Calinski-Harabasz score for  16  clusters is:  34.265155467271754\n",
      "Calinski-Harabasz score for  17  clusters is:  33.193718174469694\n",
      "Calinski-Harabasz score for  18  clusters is:  33.94691772302392\n",
      "Calinski-Harabasz score for  19  clusters is:  33.93932690790943\n",
      "Calinski-Harabasz score for  20  clusters is:  33.117652187870135\n",
      "Best number of clusters: 5\n",
      "Number of training pints for the class:  20\n",
      "Number of training data after filtering:  20\n",
      "Processing class  5.0\n",
      "Calinski-Harabasz score for  5  clusters is:  50.62564170082489\n",
      "Calinski-Harabasz score for  6  clusters is:  47.79504096084726\n",
      "Calinski-Harabasz score for  7  clusters is:  46.823215339212595\n",
      "Calinski-Harabasz score for  8  clusters is:  44.145508405763415\n",
      "Calinski-Harabasz score for  9  clusters is:  42.77174915044249\n",
      "Calinski-Harabasz score for  10  clusters is:  40.718141772684554\n",
      "Calinski-Harabasz score for  11  clusters is:  38.67624271063278\n",
      "Calinski-Harabasz score for  12  clusters is:  39.62887024563943\n",
      "Calinski-Harabasz score for  13  clusters is:  38.709639135950844\n",
      "Calinski-Harabasz score for  14  clusters is:  38.03399209057758\n",
      "Calinski-Harabasz score for  15  clusters is:  37.017628534682274\n",
      "Calinski-Harabasz score for  16  clusters is:  38.49710383505709\n",
      "Calinski-Harabasz score for  17  clusters is:  38.4140043798445\n",
      "Calinski-Harabasz score for  18  clusters is:  38.07058853891347\n",
      "Calinski-Harabasz score for  19  clusters is:  38.110050267978515\n",
      "Calinski-Harabasz score for  20  clusters is:  39.89523261853399\n",
      "Best number of clusters: 5\n",
      "Number of training pints for the class:  20\n",
      "Number of training data after filtering:  19\n",
      "Processing class  14.0\n",
      "Calinski-Harabasz score for  5  clusters is:  131.79980662135335\n",
      "Calinski-Harabasz score for  6  clusters is:  141.61359127253868\n",
      "Calinski-Harabasz score for  7  clusters is:  136.27431604508027\n",
      "Calinski-Harabasz score for  8  clusters is:  132.5769332853955\n",
      "Calinski-Harabasz score for  9  clusters is:  129.19007834437835\n",
      "Calinski-Harabasz score for  10  clusters is:  125.11306863773584\n",
      "Calinski-Harabasz score for  11  clusters is:  128.99451309768716\n",
      "Calinski-Harabasz score for  12  clusters is:  131.31914828686644\n",
      "Calinski-Harabasz score for  13  clusters is:  128.34176370109392\n",
      "Calinski-Harabasz score for  14  clusters is:  133.82234668139108\n",
      "Calinski-Harabasz score for  15  clusters is:  127.29928452183323\n",
      "Calinski-Harabasz score for  16  clusters is:  136.47746416842227\n",
      "Calinski-Harabasz score for  17  clusters is:  133.3977882550244\n",
      "Calinski-Harabasz score for  18  clusters is:  132.7268550308296\n",
      "Calinski-Harabasz score for  19  clusters is:  136.6121480778877\n",
      "Calinski-Harabasz score for  20  clusters is:  144.56414110131396\n",
      "Best number of clusters: 20\n",
      "Number of training pints for the class:  20\n",
      "Number of training data after filtering:  12\n"
     ]
    }
   ],
   "source": [
    "training_features_filtered=None # filtered training data for all classes\n",
    "frequency_threshold=0.1 # threshold of cluter frequency\n",
    "for class_value in lc_classes: # filtering training data for each class\n",
    "    #i=1 # test for first class\n",
    "    print('Processing class ',class_value)\n",
    "    rand_features_single_class=rand_samples_features[rand_samples_features[class_attr]==class_value].reset_index(drop=True)\n",
    "    np_rand_features=rand_features_single_class.to_numpy()[:,1:]\n",
    "    if optimal_clusters[class_value] is None:\n",
    "        n_cluster_optimal,kmeans_model_optimal,labels_optimal=find_clusters_KMeans(np_rand_features,min_cluster=5,max_cluster=20)\n",
    "    else:\n",
    "        n_cluster_optimal,kmeans_model_optimal,labels_optimal=find_clusters_KMeans(np_rand_features,min_cluster=optimal_clusters[class_value],max_cluster=optimal_clusters[class_value])\n",
    "\n",
    "        # subset original training points for this class\n",
    "    td_single_class=training_features[training_features[class_attr]==class_value].reset_index(drop=True)\n",
    "    print('Number of training pints for the class: ',len(td_single_class))\n",
    "    np_td_single_class=td_single_class.to_numpy()[:,-6:]\n",
    "    # predict clustering labels\n",
    "    labels_kmeans = kmeans_model_optimal.predict(np_td_single_class)\n",
    "    # append clustering results to pixel coordinates\n",
    "    td_single_class['cluster']=labels_kmeans\n",
    "\n",
    "    cluster_frequency=td_single_class['cluster'].map(td_single_class['cluster'].value_counts(normalize=True)) # calculate cluster frequencies for the training samples\n",
    "    td_single_class['cluster_frequency']=cluster_frequency # append as a column\n",
    "    td_single_class_filtered=td_single_class[td_single_class['cluster_frequency']>=frequency_threshold] # filter by cluster frequency\n",
    "    print('Number of training data after filtering: ',len(td_single_class_filtered))\n",
    "    \n",
    "    # append the filtered training points of this class to final filtered training data\n",
    "    if training_features_filtered is None:\n",
    "        training_features_filtered=td_single_class_filtered\n",
    "    else:\n",
    "        training_features_filtered=pd.concat([training_features_filtered, td_single_class_filtered])"
   ]
  },
  {
   "cell_type": "markdown",
   "id": "7ffedd3d-6817-4c3a-aca6-d5b5d98f85ad",
   "metadata": {},
   "source": [
    "## Export filtered training features\n",
    "Once we've filtered the training signatures, we can write the filtered data to disk, which will allow us to import the data in the next step(s) of the workflow."
   ]
  },
  {
   "cell_type": "code",
   "execution_count": null,
   "id": "0b97829f-3578-4ce3-95e6-ba2be2b99820",
   "metadata": {},
   "outputs": [],
   "source": [
    "# # export the filtered training data as geojson file\n",
    "# output_file = \"Results/Rwanda_training_features_2021_filtered.geojson\"\n",
    "# training_features_filtered.to_file(output_file, driver=\"GeoJSON\")"
   ]
  },
  {
   "cell_type": "code",
   "execution_count": 51,
   "id": "9ed675c5-4dc6-4f71-850f-55e0c685334f",
   "metadata": {},
   "outputs": [],
   "source": [
    "output_file = \"Results/Training_features_Kicukiro_filtered.txt\"\n",
    "training_features_filtered.to_csv(output_file, header=True, index=None, sep=' ')"
   ]
  },
  {
   "cell_type": "code",
   "execution_count": null,
   "id": "de5083af-a9c3-4373-b972-729d51ce21b4",
   "metadata": {},
   "outputs": [],
   "source": []
  }
 ],
 "metadata": {
  "kernelspec": {
   "display_name": "Python 3 (ipykernel)",
   "language": "python",
   "name": "python3"
  },
  "language_info": {
   "codemirror_mode": {
    "name": "ipython",
    "version": 3
   },
   "file_extension": ".py",
   "mimetype": "text/x-python",
   "name": "python",
   "nbconvert_exporter": "python",
   "pygments_lexer": "ipython3",
   "version": "3.8.10"
  },
  "vscode": {
   "interpreter": {
    "hash": "01a9736267bf300689e8e016092cd01f0c67384dd94651ae6e139a291bc8cc97"
   }
  }
 },
 "nbformat": 4,
 "nbformat_minor": 5
}
