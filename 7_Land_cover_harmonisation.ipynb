{
 "cells": [
  {
   "cell_type": "markdown",
   "id": "bb262b8e-e685-49e9-8354-34f7e7865b63",
   "metadata": {},
   "source": [
    "# Harmonise land cover classification\n",
    "\n",
    "## Description\n",
    "This notebook uses predictions from previous two years to harmonise and process current years prediction based on a set of customised rules. The implementation is expected to remove unlikely changes between classes within this three-year window time."
   ]
  },
  {
   "cell_type": "markdown",
   "id": "fa89591d-cb3b-487c-ba41-81954788d5ba",
   "metadata": {},
   "source": [
    "## Load Packages"
   ]
  },
  {
   "cell_type": "code",
   "execution_count": null,
   "id": "b61b6bac-8465-4b39-9dc1-8cfd9849a815",
   "metadata": {},
   "outputs": [],
   "source": [
    "%matplotlib inline\n",
    "import numpy as np\n",
    "import geopandas as gpd\n",
    "import xarray as xr\n",
    "import rioxarray\n",
    "import datacube\n",
    "from datacube.utils.cog import write_cog\n",
    "from deafrica_tools.spatial import xr_rasterize\n",
    "from deafrica_tools.plotting import rgb\n",
    "from skimage.morphology import binary_dilation,disk\n",
    "from skimage.filters.rank import modal\n",
    "from skimage.segmentation import expand_labels\n",
    "from odc.algo import xr_reproject\n",
    "import matplotlib.pyplot as plt\n",
    "from matplotlib.colors import ListedColormap,BoundaryNorm\n",
    "from matplotlib.patches import Patch"
   ]
  },
  {
   "cell_type": "markdown",
   "id": "13bd1df4-f06a-40d7-86ac-e35be29ebb44",
   "metadata": {},
   "source": [
    "## Analysis parameters\n",
    "* `map_path_current`: File path and name of the post-processed classification map for the current year and entire district produced from previous notebook.\n",
    "* `map_path_last`: File path and name of the post-processed classification map for last year and entire district produced from previous notebook.\n",
    "* `map_path_bf_last`: File path and name of the post-processed classification map for the year before last year and entire district produced from previous notebook.\n",
    "* `dict_map`: A dictionary map of class names corresponding to pixel values."
   ]
  },
  {
   "cell_type": "code",
   "execution_count": null,
   "id": "51f8fad7-8629-48cd-a643-d54834e94a3a",
   "metadata": {},
   "outputs": [],
   "source": [
    "map_path_current='Results/Land_cover_prediction_postprocessed.tif'\n",
    "map_path_last=''\n",
    "map_path_bf_last=''\n",
    "dict_map={'Forest':1,'Grassland':5,'Shrubland':7,'Cropland':10,\n",
    "          'Wetland':11,'Water Body':12,'Urban Settlement':13,'Bare Land':14}"
   ]
  },
  {
   "cell_type": "markdown",
   "id": "ae3f9085-0a6e-45b5-a176-6904001cd85d",
   "metadata": {},
   "source": [
    "## Load maps"
   ]
  },
  {
   "cell_type": "code",
   "execution_count": null,
   "id": "21b921e0-30bd-414a-a1ad-f04e25c21309",
   "metadata": {},
   "outputs": [],
   "source": [
    "xr_current=rioxarray.open_rasterio(map_path_current).astype(np.uint8).squeeze()\n",
    "xr_last=rioxarray.open_rasterio(map_path_current).astype(np.uint8).squeeze()\n",
    "xr_bf_last=rioxarray.open_rasterio(map_path_current).astype(np.uint8).squeeze()"
   ]
  },
  {
   "cell_type": "code",
   "execution_count": null,
   "id": "e92d8eed-2c22-4d33-b624-a45a24b85ba0",
   "metadata": {},
   "outputs": [],
   "source": [
    "ds_geobox=xr_current.geobox\n",
    "xr_last=xr_reproject(xr_last, ds_geobox, resampling=\"nearest\")\n",
    "xr_bf_last=xr_reproject(xr_bf_last, ds_geobox, resampling=\"nearest\")"
   ]
  },
  {
   "cell_type": "markdown",
   "id": "9873eb82-2bad-4204-bb00-678be330cad2",
   "metadata": {},
   "source": [
    "## Apply rules  \n",
    "The following rules are applied on a per-pixel basis:  \n",
    "\n",
    "* Reassign the class (if other than Water Body) of the second year to that of previous/following year if the class of the previous and following years is the same;  \n",
    "* Reassign Urban Settlement to Water Body, if it was Water Body within previous two years;\n",
    "* Reassign Cropland to Urban Settlement, if it was Urban Settlement within previous two years;\n",
    "* Reassign Cropland to Bare Land, if it was Bare Land within previous two years;\n",
    "* Reassign Bare Land to Urban Settlement, if it was Urban Settlement within previous two years;\n",
    "* Reassign Forest to previous class if it was not Wetland or Shrubland within previous two years;\n",
    "* Reassign Wetland to previous class if it was not Grassland, Shrubland or Cropland within previous two years;\n",
    "* Reassign Shrubland to previous class if it was not Wetland, Grassland or Forest within previous two years;\n",
    "* Reassign Grassland to previous class if it was not Bare Land, Cropland or Wetland within previous two years."
   ]
  },
  {
   "cell_type": "code",
   "execution_count": null,
   "id": "5da43849-494d-4d2f-b165-0d8a083b63c5",
   "metadata": {},
   "outputs": [],
   "source": [
    "np_current=xr_current.squeeze().to_numpy()\n",
    "np_last=xr_last.squeeze().to_numpy()\n",
    "np_bf_last=xr_bf_last.squeeze().to_numpy()"
   ]
  },
  {
   "cell_type": "code",
   "execution_count": null,
   "id": "a44b5ea7-93bb-4ac1-8b97-6cbe53f887ad",
   "metadata": {},
   "outputs": [],
   "source": [
    "np_last=np.where((np_last!=dict_map['Water Body'])&(np_last!=np_bf_last)&(np_current==np_bf_last),np_current,np_last)\n",
    "np_current=np.where((np_current==dict_map['Urban Settlement'])&(np_last==dict_map['Water Body']),dict_map['Water Body'],np_current)\n",
    "np_current=np.where((np_current==dict_map['Cropland'])&((np_last==dict_map['Urban Settlement'])|(np_last==dict_map['Bare Land'])),\n",
    "                    dict_map['Urban Settlement'],np_current)\n",
    "np_current=np.where((np_current==dict_map['Bare Land'])&(np_last==dict_map['Urban Settlement']),dict_map['Urban Settlement'],np_current)\n",
    "np_current=np.where((np_current==dict_map['Forest'])&((np_last!=dict_map['Wetland'])&(np_last!=dict_map['Shrubland'])),\n",
    "                    np_last,np_current)\n",
    "np_current=np.where((np_current==dict_map['Wetland'])&((np_last!=dict_map['Grassland'])&(np_last!=dict_map['Shrubland'])&(np_last!=dict_map['Cropland'])),\n",
    "                    np_last,np_current)\n",
    "np_current=np.where((np_current==dict_map['Shrubland'])&((np_last!=dict_map['Wetland'])&(np_last!=dict_map['Grassland'])&(np_last!=dict_map['Forest'])),\n",
    "                    np_last,np_current)\n",
    "np_current=np.where((np_current==dict_map['Grassland'])&((np_last!=dict_map['Bare Land'])&(np_last!=dict_map['Cropland'])&(np_last!=dict_map['Wetland'])),\n",
    "                    np_last,np_current)"
   ]
  },
  {
   "cell_type": "code",
   "execution_count": null,
   "id": "faf1a644-ce6c-4be9-8744-89f49e3aabe3",
   "metadata": {},
   "outputs": [],
   "source": [
    "xr_current_harmonised=xr.DataArray(data=np_current,dims=['y','x'],\n",
    "                         coords={'y':xr_current.y.to_numpy(), 'x':xr_current.x.to_numpy()})\n",
    "output_crs=xr_current.rio.crs\n",
    "xr_current_harmonised.rio.write_crs(output_crs, inplace=True)"
   ]
  },
  {
   "cell_type": "markdown",
   "id": "74578a07-0b9a-4a74-85ec-a7b775cceee8",
   "metadata": {},
   "source": [
    "## Display results"
   ]
  },
  {
   "cell_type": "code",
   "execution_count": null,
   "id": "04869f48-362e-47cc-acbb-0d653dfb1990",
   "metadata": {},
   "outputs": [],
   "source": [
    "fig, axes = plt.subplots(1, 2, figsize=(20, 8))\n",
    "\n",
    "colours = {1:'green', 5:'gold', 7:'chocolate',9:'violet',10:'pink',11:'cyan',12:'blue',13:'gray',14:'seashell'}\n",
    "colours_merged={1:'green', 5:'gold', 7:'chocolate',10:'pink',11:'cyan',12:'blue',13:'gray',14:'seashell'}\n",
    "\n",
    "patches_list=[Patch(facecolor=colour) for colour in colours.values()]\n",
    "patches_list_merged=[Patch(facecolor=colour) for colour in colours_merged.values()]\n",
    "\n",
    "# set color legends and color maps parameters\n",
    "prediction_values=np.unique(lc_map)\n",
    "cmap=ListedColormap([colours[k] for k in prediction_values])\n",
    "norm = BoundaryNorm(list(prediction_values)+[np.max(prediction_values)+1], cmap.N)\n",
    "\n",
    "prediction_values_merged=np.unique(lc_map_postproc)\n",
    "cmap_merged=ListedColormap([colours_merged[k] for k in prediction_values_merged])\n",
    "norm_merged = BoundaryNorm(list(prediction_values_merged)+[np.max(prediction_values_merged)+1], cmap_merged.N)\n",
    "\n",
    "xr_current.plot.imshow(ax=axes[0], \n",
    "               cmap=cmap,\n",
    "               norm=norm,\n",
    "               add_labels=True, \n",
    "               add_colorbar=False,\n",
    "               interpolation='none')\n",
    "\n",
    "xr_current_harmonised.plot.imshow(ax=axes[1], \n",
    "               cmap=cmap_merged,\n",
    "               norm=norm_merged,\n",
    "               add_labels=True, \n",
    "               add_colorbar=False,\n",
    "               interpolation='none')\n",
    "\n",
    "# Remove axis on middle and right plot\n",
    "axes[1].get_yaxis().set_visible(False)\n",
    "# add colour legends\n",
    "axes[0].legend(patches_list, list(dict_map.keys()),\n",
    "    loc='upper center', ncol =4, bbox_to_anchor=(0.5, -0.1))\n",
    "axes[1].legend(patches_list_merged, list(dict_map.keys()),\n",
    "    loc='upper center', ncol =4, bbox_to_anchor=(0.5, -0.1))\n",
    "# Add plot titles\n",
    "axes[0].set_title('Classification before harmonisation')\n",
    "axes[1].set_title('Classification after harmonisation')"
   ]
  },
  {
   "cell_type": "markdown",
   "id": "f79ee883-4e3f-45d9-abc0-2b2712be3271",
   "metadata": {},
   "source": [
    "## Export results"
   ]
  },
  {
   "cell_type": "code",
   "execution_count": null,
   "id": "23d63294-6dab-43d7-b173-00c2bbded52e",
   "metadata": {},
   "outputs": [],
   "source": [
    "write_cog(lc_map_postproc, 'Results/Land_cover_prediction_postprocessed_harmonised.tif', overwrite=True)"
   ]
  }
 ],
 "metadata": {
  "kernelspec": {
   "display_name": "Python 3 (ipykernel)",
   "language": "python",
   "name": "python3"
  },
  "language_info": {
   "codemirror_mode": {
    "name": "ipython",
    "version": 3
   },
   "file_extension": ".py",
   "mimetype": "text/x-python",
   "name": "python",
   "nbconvert_exporter": "python",
   "pygments_lexer": "ipython3",
   "version": "3.8.10"
  }
 },
 "nbformat": 4,
 "nbformat_minor": 5
}
